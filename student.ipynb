{
 "cells": [
  {
   "cell_type": "markdown",
   "metadata": {},
   "source": [
    "# Here you run your code to model the data\n",
    "Evaluation\n",
    "Evaluate how well your work solves the stated business problem.\n",
    "\n",
    "Questions to consider:\n",
    "\n",
    "How do you interpret the results?\n",
    "How well does your model fit your data? How much better is this than your baseline model?\n",
    "How confident are you that your results would generalize beyond the data you have?\n",
    "How confident are you that this model would benefit the business if put into use?\n",
    "Conclusions\n",
    "Provide your conclusions about the work you've done, including any limitations or next steps.\n",
    "\n",
    "Questions to consider:\n",
    "\n",
    "What would you recommend the business do as a result of this work?\n",
    "What are some reasons why your analysis might not fully solve the business problem?\n",
    "What else could you do in the future to improve this project?\n",
    "\n",
    "\n"
   ]
  },
  {
   "cell_type": "markdown",
   "metadata": {},
   "source": [
    "<img src=\"Images/logo.png\">\n",
    "\n",
    "# <center>Microsoft Movie Studio</center>"
   ]
  },
  {
   "cell_type": "markdown",
   "metadata": {},
   "source": [
    "# Overview\n",
    "***"
   ]
  },
  {
   "cell_type": "markdown",
   "metadata": {},
   "source": [
    "This projects goal is to explore movie analytics to provide actionable insights for Microsoft's new Movie Studio. My goal for this project was to help aide Microsoft in creating a baseline structure to assist them in deciding what factors are important to take into consideration when chosing what types of films to produce! \n",
    "\n",
    "I carried out exploritory analyses on datasets containing information about movie titles, ratings, genres, gross income, and directors to create a selection of business models for Microsoft's consideration.\n",
    "\n",
    "My analyses show that movies under the genres Action, Sci-Fi, and Mystery, on average, have a higher gross box-offince income. But, as far as movie ratings go, Drama and Non-Fiction movies tend to get higher ratings. This tells us that while Action/Sci-Fi/Mystery movies generally make more money in the box-office, they are not percieved as well by critics.\n",
    "\n",
    "My analyses also explore movie ratings (G, PG, PG-13, R, NR) and the distribution of total movies made through each category, as well as how well, on average, they are percieved by critics. This data shows that R rated movies are made at a much higher rate and on average are rated 'Fresh' on Rotton Tomatoes more often than any other movie rating\n",
    "\n",
    "As a bonus, I have explored the Top 10 Movie Directors by the number of films they have directed and analysed their average movie rating. This has shown that Stephen Spielberg has both made the highest number of movies, as well as has the highest average ratings. This tells us that he would be a excellent director to partner with. "
   ]
  },
  {
   "cell_type": "markdown",
   "metadata": {},
   "source": [
    "# Business Problem\n",
    "\n",
    "***"
   ]
  },
  {
   "cell_type": "markdown",
   "metadata": {},
   "source": [
    "#Business Problem Summary of the business problem you are trying to solve, and the data questions that you plan to answer to solve them.\n",
    "\n",
    "**hello**\n",
    "\n",
    "***\n",
    "Questions to Consider:\n",
    "* What ...\n",
    "***\n",
    "\n",
    "[link] ()\n",
    "\n",
    "1. hello\n",
    "2. hello\n",
    "\n",
    "\n",
    "``` code block```"
   ]
  },
  {
   "cell_type": "code",
   "execution_count": 1,
   "metadata": {},
   "outputs": [],
   "source": [
    "# Questions to consider:\n",
    "\n",
    "# What are the business's pain points related to this project? How did you pick the data analysis question(s) that you did? Why are these questions important from a business perspective? Data Understanding Describe the data being used for this project.\n",
    "\n",
    "# Questions to consider:\n",
    "\n",
    "# Where did the data come from, and how do they relate to the data analysis questions? What do the data represent? Who is in the sample and what variables are included? What is the target variable? What are the properties of the variables you intend to use?"
   ]
  },
  {
   "cell_type": "markdown",
   "metadata": {},
   "source": [
    "# Data Understanding\n",
    "---"
   ]
  },
  {
   "cell_type": "markdown",
   "metadata": {},
   "source": [
    "The data used in this project is gathered from IMDB, Rotton Tomatoes, Box Office Mojo, The Movie Database, and The Numbers.\n",
    "\n",
    "\n",
    "***\n",
    "### Questions I Will Be Analysing\n",
    "\n",
    "1. What is the distribution of movie ratings and genres?\n",
    "2. What are the top 5 actors and directors?\n",
    "3. "
   ]
  },
  {
   "cell_type": "markdown",
   "metadata": {},
   "source": [
    "# Import Packages\n",
    "***"
   ]
  },
  {
   "cell_type": "code",
   "execution_count": 19,
   "metadata": {},
   "outputs": [],
   "source": [
    "import pandas as pd\n",
    "import numpy as np\n",
    "import matplotlib.pyplot as plt\n",
    "import seaborn as sns\n",
    "%matplotlib inline"
   ]
  },
  {
   "cell_type": "markdown",
   "metadata": {},
   "source": [
    "# Data\n",
    "***"
   ]
  },
  {
   "cell_type": "markdown",
   "metadata": {},
   "source": [
    "## Data Exploration"
   ]
  },
  {
   "cell_type": "code",
   "execution_count": 3,
   "metadata": {},
   "outputs": [],
   "source": [
    "# picture of the different tables and how they connect (sql style with primary keys, foreign keys, and how they relate, etc?)"
   ]
  },
  {
   "cell_type": "code",
   "execution_count": 4,
   "metadata": {},
   "outputs": [],
   "source": [
    "#explaination of data being read in"
   ]
  },
  {
   "cell_type": "markdown",
   "metadata": {},
   "source": [
    "## Data Preparation"
   ]
  },
  {
   "cell_type": "markdown",
   "metadata": {},
   "source": [
    "```read_csv``` for all necessary data files"
   ]
  },
  {
   "cell_type": "code",
   "execution_count": 20,
   "metadata": {},
   "outputs": [],
   "source": [
    "#CSV files needed for visualization of genre and ratings\n",
    "imdb_title = pd.read_csv(\"Data/imdb.title.basics.csv.gz\")\n",
    "imdb_ratings = pd.read_csv(\"Data/imdb.title.ratings.csv.gz\")"
   ]
  },
  {
   "cell_type": "code",
   "execution_count": 6,
   "metadata": {},
   "outputs": [],
   "source": [
    "#CSV files needed for analyzing most popular people (directors and actors)\n",
    "#imdb_names = pd.read_csv(\"Data/imdb.name.basics.csv.gz\")"
   ]
  },
  {
   "cell_type": "code",
   "execution_count": 21,
   "metadata": {},
   "outputs": [],
   "source": [
    "#CSV files for finding top directors and their average movie ratings\n",
    "rt_movies = pd.read_csv(\"Data/rt.movie_info.tsv.gz\", sep='\\t')\n",
    "rt_reviews = pd.read_csv(\"Data/rt.reviews.tsv.gz\", sep='\\t', encoding = \"ISO-8859-1\")"
   ]
  },
  {
   "cell_type": "code",
   "execution_count": 22,
   "metadata": {},
   "outputs": [],
   "source": [
    "#CSV files for finding budgets\n",
    "bom_gross = pd.read_csv('Data/bom.movie_gross.csv.gz')\n",
    "tn_budgets = pd.read_csv('Data/tn.movie_budgets.csv.gz')"
   ]
  },
  {
   "cell_type": "code",
   "execution_count": 9,
   "metadata": {},
   "outputs": [],
   "source": [
    "#merge title with BOM gorss or tn budgets and see which one has more info"
   ]
  },
  {
   "cell_type": "markdown",
   "metadata": {},
   "source": [
    "### Data Merging"
   ]
  },
  {
   "cell_type": "code",
   "execution_count": 23,
   "metadata": {},
   "outputs": [
    {
     "data": {
      "text/html": [
       "<div>\n",
       "<style scoped>\n",
       "    .dataframe tbody tr th:only-of-type {\n",
       "        vertical-align: middle;\n",
       "    }\n",
       "\n",
       "    .dataframe tbody tr th {\n",
       "        vertical-align: top;\n",
       "    }\n",
       "\n",
       "    .dataframe thead th {\n",
       "        text-align: right;\n",
       "    }\n",
       "</style>\n",
       "<table border=\"1\" class=\"dataframe\">\n",
       "  <thead>\n",
       "    <tr style=\"text-align: right;\">\n",
       "      <th></th>\n",
       "      <th>tconst</th>\n",
       "      <th>primary_title</th>\n",
       "      <th>original_title</th>\n",
       "      <th>start_year</th>\n",
       "      <th>runtime_minutes</th>\n",
       "      <th>genres</th>\n",
       "      <th>averagerating</th>\n",
       "      <th>numvotes</th>\n",
       "    </tr>\n",
       "  </thead>\n",
       "  <tbody>\n",
       "    <tr>\n",
       "      <th>0</th>\n",
       "      <td>tt0063540</td>\n",
       "      <td>Sunghursh</td>\n",
       "      <td>Sunghursh</td>\n",
       "      <td>2013</td>\n",
       "      <td>175.0</td>\n",
       "      <td>Action,Crime,Drama</td>\n",
       "      <td>7.0</td>\n",
       "      <td>77</td>\n",
       "    </tr>\n",
       "    <tr>\n",
       "      <th>1</th>\n",
       "      <td>tt0066787</td>\n",
       "      <td>One Day Before the Rainy Season</td>\n",
       "      <td>Ashad Ka Ek Din</td>\n",
       "      <td>2019</td>\n",
       "      <td>114.0</td>\n",
       "      <td>Biography,Drama</td>\n",
       "      <td>7.2</td>\n",
       "      <td>43</td>\n",
       "    </tr>\n",
       "    <tr>\n",
       "      <th>2</th>\n",
       "      <td>tt0069049</td>\n",
       "      <td>The Other Side of the Wind</td>\n",
       "      <td>The Other Side of the Wind</td>\n",
       "      <td>2018</td>\n",
       "      <td>122.0</td>\n",
       "      <td>Drama</td>\n",
       "      <td>6.9</td>\n",
       "      <td>4517</td>\n",
       "    </tr>\n",
       "    <tr>\n",
       "      <th>3</th>\n",
       "      <td>tt0069204</td>\n",
       "      <td>Sabse Bada Sukh</td>\n",
       "      <td>Sabse Bada Sukh</td>\n",
       "      <td>2018</td>\n",
       "      <td>NaN</td>\n",
       "      <td>Comedy,Drama</td>\n",
       "      <td>6.1</td>\n",
       "      <td>13</td>\n",
       "    </tr>\n",
       "    <tr>\n",
       "      <th>4</th>\n",
       "      <td>tt0100275</td>\n",
       "      <td>The Wandering Soap Opera</td>\n",
       "      <td>La Telenovela Errante</td>\n",
       "      <td>2017</td>\n",
       "      <td>80.0</td>\n",
       "      <td>Comedy,Drama,Fantasy</td>\n",
       "      <td>6.5</td>\n",
       "      <td>119</td>\n",
       "    </tr>\n",
       "  </tbody>\n",
       "</table>\n",
       "</div>"
      ],
      "text/plain": [
       "      tconst                    primary_title              original_title  \\\n",
       "0  tt0063540                        Sunghursh                   Sunghursh   \n",
       "1  tt0066787  One Day Before the Rainy Season             Ashad Ka Ek Din   \n",
       "2  tt0069049       The Other Side of the Wind  The Other Side of the Wind   \n",
       "3  tt0069204                  Sabse Bada Sukh             Sabse Bada Sukh   \n",
       "4  tt0100275         The Wandering Soap Opera       La Telenovela Errante   \n",
       "\n",
       "   start_year  runtime_minutes                genres  averagerating  numvotes  \n",
       "0        2013            175.0    Action,Crime,Drama            7.0        77  \n",
       "1        2019            114.0       Biography,Drama            7.2        43  \n",
       "2        2018            122.0                 Drama            6.9      4517  \n",
       "3        2018              NaN          Comedy,Drama            6.1        13  \n",
       "4        2017             80.0  Comedy,Drama,Fantasy            6.5       119  "
      ]
     },
     "execution_count": 23,
     "metadata": {},
     "output_type": "execute_result"
    }
   ],
   "source": [
    "#merge movie titles and ratings based on their common column 'tconst'\n",
    "imdb_title_ratings = pd.merge(imdb_title, imdb_ratings, left_on='tconst', right_on='tconst')\n",
    "imdb_title_ratings.head()"
   ]
  },
  {
   "cell_type": "code",
   "execution_count": 24,
   "metadata": {},
   "outputs": [
    {
     "data": {
      "text/html": [
       "<div>\n",
       "<style scoped>\n",
       "    .dataframe tbody tr th:only-of-type {\n",
       "        vertical-align: middle;\n",
       "    }\n",
       "\n",
       "    .dataframe tbody tr th {\n",
       "        vertical-align: top;\n",
       "    }\n",
       "\n",
       "    .dataframe thead th {\n",
       "        text-align: right;\n",
       "    }\n",
       "</style>\n",
       "<table border=\"1\" class=\"dataframe\">\n",
       "  <thead>\n",
       "    <tr style=\"text-align: right;\">\n",
       "      <th></th>\n",
       "      <th>tconst</th>\n",
       "      <th>primary_title</th>\n",
       "      <th>original_title</th>\n",
       "      <th>start_year</th>\n",
       "      <th>runtime_minutes</th>\n",
       "      <th>genres</th>\n",
       "      <th>averagerating</th>\n",
       "      <th>numvotes</th>\n",
       "      <th>title</th>\n",
       "      <th>studio</th>\n",
       "      <th>domestic_gross</th>\n",
       "      <th>foreign_gross</th>\n",
       "      <th>year</th>\n",
       "    </tr>\n",
       "  </thead>\n",
       "  <tbody>\n",
       "    <tr>\n",
       "      <th>346</th>\n",
       "      <td>tt1375666</td>\n",
       "      <td>Inception</td>\n",
       "      <td>Inception</td>\n",
       "      <td>2010</td>\n",
       "      <td>148.0</td>\n",
       "      <td>Action,Adventure,Sci-Fi</td>\n",
       "      <td>8.8</td>\n",
       "      <td>1841066</td>\n",
       "      <td>Inception</td>\n",
       "      <td>WB</td>\n",
       "      <td>292600000.0</td>\n",
       "      <td>535700000</td>\n",
       "      <td>2010</td>\n",
       "    </tr>\n",
       "    <tr>\n",
       "      <th>330</th>\n",
       "      <td>tt1345836</td>\n",
       "      <td>The Dark Knight Rises</td>\n",
       "      <td>The Dark Knight Rises</td>\n",
       "      <td>2012</td>\n",
       "      <td>164.0</td>\n",
       "      <td>Action,Thriller</td>\n",
       "      <td>8.4</td>\n",
       "      <td>1387769</td>\n",
       "      <td>The Dark Knight Rises</td>\n",
       "      <td>WB</td>\n",
       "      <td>448100000.0</td>\n",
       "      <td>636800000</td>\n",
       "      <td>2012</td>\n",
       "    </tr>\n",
       "    <tr>\n",
       "      <th>72</th>\n",
       "      <td>tt0816692</td>\n",
       "      <td>Interstellar</td>\n",
       "      <td>Interstellar</td>\n",
       "      <td>2014</td>\n",
       "      <td>169.0</td>\n",
       "      <td>Adventure,Drama,Sci-Fi</td>\n",
       "      <td>8.6</td>\n",
       "      <td>1299334</td>\n",
       "      <td>Interstellar</td>\n",
       "      <td>Par.</td>\n",
       "      <td>188000000.0</td>\n",
       "      <td>489400000</td>\n",
       "      <td>2014</td>\n",
       "    </tr>\n",
       "    <tr>\n",
       "      <th>755</th>\n",
       "      <td>tt1853728</td>\n",
       "      <td>Django Unchained</td>\n",
       "      <td>Django Unchained</td>\n",
       "      <td>2012</td>\n",
       "      <td>165.0</td>\n",
       "      <td>Drama,Western</td>\n",
       "      <td>8.4</td>\n",
       "      <td>1211405</td>\n",
       "      <td>Django Unchained</td>\n",
       "      <td>Wein.</td>\n",
       "      <td>162800000.0</td>\n",
       "      <td>262600000</td>\n",
       "      <td>2012</td>\n",
       "    </tr>\n",
       "    <tr>\n",
       "      <th>121</th>\n",
       "      <td>tt0993846</td>\n",
       "      <td>The Wolf of Wall Street</td>\n",
       "      <td>The Wolf of Wall Street</td>\n",
       "      <td>2013</td>\n",
       "      <td>180.0</td>\n",
       "      <td>Biography,Crime,Drama</td>\n",
       "      <td>8.2</td>\n",
       "      <td>1035358</td>\n",
       "      <td>The Wolf of Wall Street</td>\n",
       "      <td>Par.</td>\n",
       "      <td>116900000.0</td>\n",
       "      <td>275100000</td>\n",
       "      <td>2013</td>\n",
       "    </tr>\n",
       "  </tbody>\n",
       "</table>\n",
       "</div>"
      ],
      "text/plain": [
       "        tconst            primary_title           original_title  start_year  \\\n",
       "346  tt1375666                Inception                Inception        2010   \n",
       "330  tt1345836    The Dark Knight Rises    The Dark Knight Rises        2012   \n",
       "72   tt0816692             Interstellar             Interstellar        2014   \n",
       "755  tt1853728         Django Unchained         Django Unchained        2012   \n",
       "121  tt0993846  The Wolf of Wall Street  The Wolf of Wall Street        2013   \n",
       "\n",
       "     runtime_minutes                   genres  averagerating  numvotes  \\\n",
       "346            148.0  Action,Adventure,Sci-Fi            8.8   1841066   \n",
       "330            164.0          Action,Thriller            8.4   1387769   \n",
       "72             169.0   Adventure,Drama,Sci-Fi            8.6   1299334   \n",
       "755            165.0            Drama,Western            8.4   1211405   \n",
       "121            180.0    Biography,Crime,Drama            8.2   1035358   \n",
       "\n",
       "                       title studio  domestic_gross foreign_gross  year  \n",
       "346                Inception     WB     292600000.0     535700000  2010  \n",
       "330    The Dark Knight Rises     WB     448100000.0     636800000  2012  \n",
       "72              Interstellar   Par.     188000000.0     489400000  2014  \n",
       "755         Django Unchained  Wein.     162800000.0     262600000  2012  \n",
       "121  The Wolf of Wall Street   Par.     116900000.0     275100000  2013  "
      ]
     },
     "execution_count": 24,
     "metadata": {},
     "output_type": "execute_result"
    }
   ],
   "source": [
    "#merge title_ratings dataframe with bom_gross to get the gross per movie title. Clean so there's no duplicates\n",
    "movie_gross = pd.merge(imdb_title_ratings, bom_gross, left_on=['primary_title','start_year'], right_on=['title', 'year'])\n",
    "movie_gross = movie_gross.sort_values(by='numvotes', ascending=False)\n",
    "movie_gross_unique = movie_gross.drop_duplicates(subset='primary_title', keep='first')\n",
    "movie_gross_unique.head()"
   ]
  },
  {
   "cell_type": "markdown",
   "metadata": {},
   "source": [
    "### Data Cleaning"
   ]
  },
  {
   "cell_type": "markdown",
   "metadata": {},
   "source": [
    "##### 1. Clean up IMDB Title and Ratings Dataframes"
   ]
  },
  {
   "cell_type": "code",
   "execution_count": 25,
   "metadata": {},
   "outputs": [],
   "source": [
    "# remove any rows with NULL values in the Genre column for the IMDB titles/ratings dataframe\n",
    "imdb_title_ratings_drop = imdb_title_ratings.dropna(subset=['genres'])"
   ]
  },
  {
   "cell_type": "code",
   "execution_count": 26,
   "metadata": {},
   "outputs": [],
   "source": [
    "#Create a generalized list of popular genres to group movies into based on their 'genre' column\n",
    "genres = ['Action', 'Comedy', 'Horror', 'Western', 'Documentary', 'Mystery', 'Family', 'Fantasy', 'Drama', 'Thriller', 'Romance', 'Sci-Fi', 'Biography']"
   ]
  },
  {
   "cell_type": "markdown",
   "metadata": {},
   "source": [
    "##### 2. Clean up Rotton Tomatoes Dataframe: drop any NULL values in ratings as well as any ratings consisting of unintelligable characters"
   ]
  },
  {
   "cell_type": "code",
   "execution_count": 27,
   "metadata": {},
   "outputs": [],
   "source": [
    "#Drop rows with NULL values in the rating column as well as any rows with Ratings that are unintelligable\n",
    "rt_reviews_dropna = rt_reviews.dropna(subset=['rating'])\n",
    "rt_reviews_drops = rt_reviews_dropna[(rt_reviews_dropna['rating'] != 'T') & \\\n",
    "                                  (rt_reviews_dropna['rating'] != 'N') & \\\n",
    "                                  (rt_reviews_dropna['rating'] != 'R') & \\\n",
    "                                  (rt_reviews_dropna['rating'] != '1-5') &\\\n",
    "                                  (rt_reviews_dropna['rating'] != '3 1/2') ]"
   ]
  },
  {
   "cell_type": "code",
   "execution_count": 28,
   "metadata": {},
   "outputs": [],
   "source": [
    "#dictionary to map for converting ratings\n",
    "grades = {'A+':9.9, 'A':9.5, 'A-':9.0, 'B+':8.9, 'B':8.5, 'B-':8.0, 'C+':7.9, 'C':7.5, 'C-':7.0, 'D+':6.9, 'D':6.5,'D-':6.0, 'F+':5.9, 'F':5.5, 'F-':5.0}"
   ]
  },
  {
   "cell_type": "markdown",
   "metadata": {},
   "source": [
    "##### 3. Clean up rotton tomatoes dataframe to drop all rows without a value for 'fresh'"
   ]
  },
  {
   "cell_type": "code",
   "execution_count": 29,
   "metadata": {},
   "outputs": [],
   "source": [
    "#Drop rows with NULL values in the fresh column\n",
    "rt_reviews_fresh = rt_reviews.dropna(subset=['fresh'])"
   ]
  },
  {
   "cell_type": "markdown",
   "metadata": {},
   "source": [
    "### Data Engineering"
   ]
  },
  {
   "cell_type": "markdown",
   "metadata": {},
   "source": [
    "##### 1. Convert Rotton Tomatoes critics ratings (fresh or rotten) into 0 or 1 and aggregate totals by movie rating (G, PG, PG-13, R, NR)"
   ]
  },
  {
   "cell_type": "code",
   "execution_count": 30,
   "metadata": {},
   "outputs": [],
   "source": [
    "#map into integers 0 and 1 whether fresh or rotton and drop any NULL values\n",
    "rt_reviews_fresh['fresh_numeric'] = rt_reviews_fresh['fresh'].map(lambda x: 1 if x == 'fresh' else 0)\n",
    "rt_reviews_fresh['rotten_numeric'] = rt_reviews_fresh['fresh'].map(lambda x: 1 if x == 'rotten' else 0)"
   ]
  },
  {
   "cell_type": "code",
   "execution_count": 31,
   "metadata": {
    "scrolled": true
   },
   "outputs": [],
   "source": [
    "#group by number of fresh and rotton\n",
    "rt_reviews_fresh_grouped = rt_reviews_fresh.groupby(['id', 'fresh']).agg('sum')"
   ]
  },
  {
   "cell_type": "code",
   "execution_count": 32,
   "metadata": {},
   "outputs": [],
   "source": [
    "#merge rt_reviews_fresh with rt_movies to get movie ratings\n",
    "rt_reviews_fresh_merged = pd.merge(rt_movies, rt_reviews_fresh_grouped, left_on='id', right_on='id')"
   ]
  },
  {
   "cell_type": "code",
   "execution_count": 33,
   "metadata": {},
   "outputs": [],
   "source": [
    "#split fresh and rotton up into different dataframes so we compare counts\n",
    "rt_fresh = rt_reviews_fresh_merged[rt_reviews_fresh_merged['fresh_numeric'] >= rt_reviews_fresh_merged['rotten_numeric']]\n",
    "rt_rotton = rt_reviews_fresh_merged[rt_reviews_fresh_merged['rotten_numeric'] > rt_reviews_fresh_merged['fresh_numeric']]"
   ]
  },
  {
   "cell_type": "code",
   "execution_count": 34,
   "metadata": {},
   "outputs": [],
   "source": [
    "#combine them back into one dataframe to determine whether overall fresh or overall rotten\n",
    "rt_fresh_comb = pd.merge(rt_fresh, rt_rotton, how='outer', left_on='id', right_on='id')\n",
    "rt_fresh_comb['fresh_rotten'] = np.where((rt_fresh_comb['fresh_numeric_x'] >= rt_fresh_comb['rotten_numeric_y']), 1, 0)"
   ]
  },
  {
   "cell_type": "code",
   "execution_count": 35,
   "metadata": {},
   "outputs": [],
   "source": [
    "#determine which movies are overall fresh\n",
    "rt_fresh_split = rt_fresh_comb[rt_fresh_comb['fresh_rotten'] == 1]"
   ]
  },
  {
   "cell_type": "code",
   "execution_count": 36,
   "metadata": {},
   "outputs": [],
   "source": [
    "#determine the number of movies per rating which are determined fresh\n",
    "rt_fresh_grouped_rating = rt_fresh_split.groupby(['rating_x'])['fresh_rotten'].sum().reset_index()"
   ]
  },
  {
   "cell_type": "markdown",
   "metadata": {},
   "source": [
    "```ratings```: movie ratings\n",
    "\n",
    "```rt_ratings_totals```: number of total movies for each rating\n",
    "\n",
    "```rt_fresh_totals```: number of total fresh movies for each rating"
   ]
  },
  {
   "cell_type": "code",
   "execution_count": 37,
   "metadata": {},
   "outputs": [],
   "source": [
    "#Create a list of movie ratings for visualization\n",
    "ratings = rt_fresh_grouped_rating['rating_x'].value_counts().sort_index().index"
   ]
  },
  {
   "cell_type": "code",
   "execution_count": 38,
   "metadata": {},
   "outputs": [],
   "source": [
    "#Number of total movies for each ratings (not split by fresh or rotten)\n",
    "rt_ratings_totals = rt_fresh_comb['rating_x'].value_counts().sort_index().values"
   ]
  },
  {
   "cell_type": "code",
   "execution_count": 39,
   "metadata": {},
   "outputs": [],
   "source": [
    "#Create a list of number of movies rated fresh per movie rating\n",
    "rt_fresh_totals = rt_fresh_grouped_rating['fresh_rotten'].values"
   ]
  },
  {
   "cell_type": "markdown",
   "metadata": {},
   "source": [
    "##### 2. Convert rotton tomato ratings into comparable values to use for analysis for critic ratings for top directors"
   ]
  },
  {
   "cell_type": "code",
   "execution_count": 40,
   "metadata": {},
   "outputs": [],
   "source": [
    "#converts ratings to percents if rating contains '/'\n",
    "def conv_rating(rating):\n",
    "    if '/' in rating:\n",
    "        r = rating.split('/')\n",
    "        return float(r[0])/float(r[1])*10\n",
    "    elif rating in grades:\n",
    "        return grades[rating]\n",
    "    else:\n",
    "        return float(rating)"
   ]
  },
  {
   "cell_type": "code",
   "execution_count": 41,
   "metadata": {},
   "outputs": [],
   "source": [
    "#pass each rating into conv_rating method\n",
    "rt_reviews_conv = rt_reviews_drops.copy()\n",
    "rt_reviews_conv['conv_ratings'] = rt_reviews_conv['rating'].map(lambda x: conv_rating(x))"
   ]
  },
  {
   "cell_type": "code",
   "execution_count": 42,
   "metadata": {},
   "outputs": [],
   "source": [
    "#Combine rows with matching ID column and take average of the ratings\n",
    "rt_reviews_comb = rt_reviews_conv.groupby(['id'])['conv_ratings'].apply(lambda x: x.mean()).reset_index()"
   ]
  },
  {
   "cell_type": "code",
   "execution_count": 43,
   "metadata": {},
   "outputs": [],
   "source": [
    "#merge Rotton Tomato movie Dataframe with the Ratings Dataframe\n",
    "rt_movie_rev = pd.merge(rt_movies, rt_reviews_comb, left_on='id', right_on='id')"
   ]
  },
  {
   "cell_type": "markdown",
   "metadata": {},
   "source": [
    "```top_directors```: Top 10 directors by number of movies\n",
    "\n",
    "```final_direct_ratings```: Average rating for each top directors movies"
   ]
  },
  {
   "cell_type": "code",
   "execution_count": 44,
   "metadata": {
    "scrolled": true
   },
   "outputs": [],
   "source": [
    "#Create a list of the top 10 directors for visualization\n",
    "top_directors = rt_movie_rev['director'].value_counts().index[:10].values"
   ]
  },
  {
   "cell_type": "code",
   "execution_count": 45,
   "metadata": {},
   "outputs": [],
   "source": [
    "#Take only the ratings with indexes that have a director in the top 10\n",
    "top_direct_ratings = rt_movie_rev.loc[rt_movie_rev['director'].isin(top_directors)]"
   ]
  },
  {
   "cell_type": "code",
   "execution_count": 46,
   "metadata": {
    "scrolled": true
   },
   "outputs": [],
   "source": [
    "#Group by again so we can take the average rating of all the directors movies\n",
    "final_direct_ratings = top_direct_ratings.groupby(['director'])['conv_ratings'].apply(lambda x: x.mean()).reset_index()\n"
   ]
  },
  {
   "cell_type": "markdown",
   "metadata": {},
   "source": [
    "##### 3. Find the average rating for movies in IMDB Dataframe. Combine Genre data to make comparable and easy to visualize"
   ]
  },
  {
   "cell_type": "code",
   "execution_count": 47,
   "metadata": {},
   "outputs": [],
   "source": [
    "#iterate through each title in title list to find average rating. add avg rating to list on actor/director name\n",
    "def find_rating(title_list):\n",
    "    avg_rating = 0\n",
    "    len_list = len(title_list)\n",
    "    for title in title_list:\n",
    "        row = imdb_ratings.loc[imdb_ratings['tconst'] == title]\n",
    "        if len(row['averagerating'].values) > 0:\n",
    "            avg_rating += row['averagerating'].values[0]\n",
    "        else:\n",
    "            len_list -= 1\n",
    "    return avg_rating"
   ]
  },
  {
   "cell_type": "code",
   "execution_count": 48,
   "metadata": {},
   "outputs": [],
   "source": [
    "#helper method to generalize genre\n",
    "def find_genre(genre_list):\n",
    "    for gen in genre_list:\n",
    "        if gen in genres:\n",
    "            return gen"
   ]
  },
  {
   "cell_type": "code",
   "execution_count": 49,
   "metadata": {},
   "outputs": [],
   "source": [
    "#assigns one genre to movie to make easier to group and organize. Make copy beforehad to avoid warnings\n",
    "imdb_title_ratings_map = imdb_title_ratings_drop.copy()\n",
    "imdb_title_ratings_map['overall_genre'] = imdb_title_ratings_map['genres'].map(lambda x: find_genre(x.split(',')))"
   ]
  },
  {
   "cell_type": "markdown",
   "metadata": {},
   "source": [
    "the following dataframes are used for visualizing the distribution of each genre"
   ]
  },
  {
   "cell_type": "code",
   "execution_count": 50,
   "metadata": {},
   "outputs": [],
   "source": [
    "#groups genres into similar categories to make easier to visualize \n",
    "ratings_action_scifi = imdb_title_ratings_map[(imdb_title_ratings_map['overall_genre'] == 'Action') |(imdb_title_ratings_map['overall_genre'] == 'Sci_Fi') | (imdb_title_ratings_map['overall_genre'] == 'Fantasy')]\n",
    "ratings_comedy = imdb_title_ratings_map[imdb_title_ratings_map['overall_genre'] == 'Comedy']\n",
    "ratings_horror = imdb_title_ratings_map[(imdb_title_ratings_map['overall_genre'] == 'Thriller') | (imdb_title_ratings_map['overall_genre'] == 'Horror')]\n",
    "ratings_drama = imdb_title_ratings_map[(imdb_title_ratings_map['overall_genre'] == 'Drama') | (imdb_title_ratings_map['overall_genre'] == 'Romance')]\n",
    "ratings_nonfiction = imdb_title_ratings_map[(imdb_title_ratings_map['overall_genre'] == 'Biography') | (imdb_title_ratings_map['overall_genre'] == 'Documentary')]\n",
    "ratings_other = imdb_title_ratings_map[(imdb_title_ratings_map['overall_genre'] == 'Family') | (imdb_title_ratings_map['overall_genre'] == 'Mystery') | \\\n",
    "                                          (imdb_title_ratings_map['overall_genre'] == 'Western') | (imdb_title_ratings_map['overall_genre'] == 'Other')]\n"
   ]
  },
  {
   "cell_type": "code",
   "execution_count": null,
   "metadata": {},
   "outputs": [],
   "source": [
    "#How did you analyze or model the data? How did you iterate on your initial approach to make it better? Why are these choices appropriate given the data and the business problem?"
   ]
  },
  {
   "cell_type": "markdown",
   "metadata": {},
   "source": [
    "##### 5. Find the average domestic_gross for each generalized genre"
   ]
  },
  {
   "cell_type": "code",
   "execution_count": 51,
   "metadata": {
    "scrolled": false
   },
   "outputs": [],
   "source": [
    "#Use the find_genre method to generalize genre for visualization correlating domestic_gross and genre\n",
    "movie_gross_map = movie_gross_unique.copy()\n",
    "movie_gross_map['overall_genre'] = movie_gross_map['genres'].map(lambda x: find_genre(x.split(',')))"
   ]
  },
  {
   "cell_type": "code",
   "execution_count": 52,
   "metadata": {},
   "outputs": [],
   "source": [
    "#Create a list of genres and corresponding average domestic_gross\n",
    "avg_gross_by_genre = movie_gross_map.groupby(['overall_genre'])['domestic_gross'].apply(lambda x: x.mean()).reset_index()\n",
    "avg_genre = avg_gross_by_genre['overall_genre'].value_counts().index\n",
    "avg_gross = avg_gross_by_genre['domestic_gross'].values"
   ]
  },
  {
   "cell_type": "markdown",
   "metadata": {},
   "source": [
    "# Visualizations\n",
    "***"
   ]
  },
  {
   "cell_type": "code",
   "execution_count": 53,
   "metadata": {},
   "outputs": [
    {
     "data": {
      "image/png": "[encoded data removed]",
      "text/plain": [
       "<Figure size 1080x360 with 1 Axes>"
      ]
     },
     "metadata": {
      "needs_background": "light"
     },
     "output_type": "display_data"
    }
   ],
   "source": [
    "fig, ax = plt.subplots(figsize=(15,5))\n",
    "\n",
    "sns.barplot(x=avg_genre, y=avg_gross, palette='cividis')\n",
    "\n",
    "\n",
    "ax.set_title(\"Movie Gross By Genre\")\n",
    "ax.set_xlabel(\"Genre\")\n",
    "ax.set_ylabel(\"Movie Gross (Millions)\");\n"
   ]
  },
  {
   "cell_type": "code",
   "execution_count": 54,
   "metadata": {},
   "outputs": [
    {
     "data": {
      "image/png": "[encoded data removed]",
      "text/plain": [
       "<Figure size 1080x360 with 1 Axes>"
      ]
     },
     "metadata": {
      "needs_background": "light"
     },
     "output_type": "display_data"
    }
   ],
   "source": [
    "# Visualization for mapping a distribution of movie ratings by genre\n",
    "fig, ax = plt.subplots(figsize=(15,5))\n",
    "bins = 80\n",
    "\n",
    "ax.hist(x=ratings_drama['averagerating'], label=\"Drama\",\n",
    "    bins=bins,\n",
    "    color=\"black\",\n",
    "    alpha=0.5)\n",
    "ax.hist(x=ratings_nonfiction['averagerating'], label=\"Non-Fiction\",\n",
    "    bins=bins,\n",
    "    color=\"teal\",\n",
    "    alpha=0.5)\n",
    "ax.hist(x=ratings_comedy['averagerating'], label=\"Comedy\",\n",
    "    bins=bins,\n",
    "    color=\"red\",\n",
    "    alpha=0.5)\n",
    "ax.hist(x=ratings_action_scifi['averagerating'], label=\"Action/Sci-Fi\",\n",
    "    bins=bins,\n",
    "    color=\"yellow\",\n",
    "    alpha=0.5)\n",
    "ax.hist(x=ratings_horror['averagerating'], label=\"Horror\",\n",
    "    bins=bins,\n",
    "    color=\"green\",\n",
    "    alpha=0.5)\n",
    "\n",
    "\n",
    "# Customize labels\n",
    "ax.set_title(\"Distributions of Movie Ratings by Genres\")\n",
    "ax.set_xlabel(\"Movie Ratings\")\n",
    "ax.set_ylabel(\"Number of Movies\")\n",
    "ax.legend();"
   ]
  },
  {
   "cell_type": "markdown",
   "metadata": {},
   "source": [
    "```Average rating for Drama: 6.3470974044097135\n",
    "Average rating for Non-Fiction: 7.292722416048845\n",
    "Average rating for Comedy: 6.005628121398386\n",
    "Average rating for Action/Sci-FI: 5.806539581678581\n",
    "Average rating for Horror: 5.108700999231361```"
   ]
  },
  {
   "cell_type": "code",
   "execution_count": 59,
   "metadata": {
    "scrolled": true
   },
   "outputs": [
    {
     "data": {
      "text/plain": [
       "count    21498.000000\n",
       "mean         6.347097\n",
       "std          1.273435\n",
       "min          1.000000\n",
       "25%          5.600000\n",
       "50%          6.400000\n",
       "75%          7.200000\n",
       "max         10.000000\n",
       "Name: averagerating, dtype: float64"
      ]
     },
     "execution_count": 59,
     "metadata": {},
     "output_type": "execute_result"
    }
   ],
   "source": [
    "ratings_drama['averagerating'].describe()"
   ]
  },
  {
   "cell_type": "code",
   "execution_count": 55,
   "metadata": {
    "scrolled": false
   },
   "outputs": [
    {
     "name": "stdout",
     "output_type": "stream",
     "text": [
      "Average rating for Drama: 6.3470974044097135\n",
      "Average rating for Non-Fiction: 7.292722416048845\n",
      "Average rating for Comedy: 6.005628121398386\n",
      "Average rating for Action/Sci-FI: 5.806539581678581\n",
      "Average rating for Horror: 5.108700999231361\n"
     ]
    }
   ],
   "source": [
    "print('Average rating for Drama: {}'.format(ratings_drama['averagerating'].mean()))\n",
    "print('Average rating for Non-Fiction: {}'.format(ratings_nonfiction['averagerating'].mean()))\n",
    "print('Average rating for Comedy: {}'.format(ratings_comedy['averagerating'].mean()))\n",
    "print('Average rating for Action/Sci-FI: {}'.format(ratings_action_scifi['averagerating'].mean()))\n",
    "print('Average rating for Horror: {}'.format(ratings_horror['averagerating'].mean()))"
   ]
  },
  {
   "cell_type": "code",
   "execution_count": 64,
   "metadata": {},
   "outputs": [
    {
     "data": {
      "image/png": "[encoded data removed]",
      "text/plain": [
       "<Figure size 576x360 with 1 Axes>"
      ]
     },
     "metadata": {
      "needs_background": "light"
     },
     "output_type": "display_data"
    }
   ],
   "source": [
    "fig, ax = plt.subplots(figsize=(8,5))\n",
    "\n",
    "#ax.bar(rated_list, avg_ratings, color='goldenrod')\n",
    "\n",
    "ax.bar(ratings, rt_ratings_totals, color='cadetblue', label='Total Num Movies')\n",
    "ax.bar(ratings, rt_fresh_totals, color='goldenrod', label='Num Fresh Movies') # percent that are fresh vs rotton\n",
    "\n",
    "\n",
    "# Customize labels\n",
    "ax.set_title(\"Percentage of Movies 'Fresh' Within Movie Ratings\")\n",
    "ax.set_xlabel(\"Movie Ratings\")\n",
    "ax.set_ylabel(\"Number of Movies\")\n",
    "ax.legend();\n",
    "\n",
    "\n",
    "#Can do one graph # movies and then have the percent of that be high ratings\n"
   ]
  },
  {
   "cell_type": "code",
   "execution_count": 68,
   "metadata": {},
   "outputs": [
    {
     "data": {
      "text/plain": [
       "array([56.75675676, 55.90909091, 54.34782609, 45.32019704, 59.95145631])"
      ]
     },
     "execution_count": 68,
     "metadata": {},
     "output_type": "execute_result"
    }
   ],
   "source": [
    "perc = (rt_fresh_totals/rt_ratings_totals)*100\n",
    "perc"
   ]
  },
  {
   "cell_type": "markdown",
   "metadata": {},
   "source": [
    "``` G: 57% Fresh\n",
    "NR: 56% Fresh\n",
    "PG: 54% Fresh\n",
    "PG-13: 45% Fresh\n",
    "R: 60% Fresh```"
   ]
  },
  {
   "cell_type": "code",
   "execution_count": null,
   "metadata": {},
   "outputs": [],
   "source": []
  },
  {
   "cell_type": "code",
   "execution_count": 57,
   "metadata": {
    "scrolled": true
   },
   "outputs": [
    {
     "data": {
      "text/plain": [
       "''"
      ]
     },
     "execution_count": 57,
     "metadata": {},
     "output_type": "execute_result"
    },
    {
     "data": {
      "image/png": "[encoded data removed]",
      "text/plain": [
       "<Figure size 1080x360 with 1 Axes>"
      ]
     },
     "metadata": {
      "needs_background": "light"
     },
     "output_type": "display_data"
    }
   ],
   "source": [
    "fig, ax = plt.subplots(figsize=(15,5))\n",
    "\n",
    "ax.bar(top_directors, final_direct_ratings['conv_ratings'], color='darkseagreen')\n",
    "\n",
    "ax.set_title(\"Top 10 Movie Producers and Their Average Movie Rating\")\n",
    "ax.set_xlabel('Director')\n",
    "ax.set_ylabel('Avg Movie Rating')\n",
    ";"
   ]
  },
  {
   "cell_type": "code",
   "execution_count": null,
   "metadata": {},
   "outputs": [],
   "source": []
  },
  {
   "cell_type": "markdown",
   "metadata": {},
   "source": [
    "# Conclusion\n",
    "***"
   ]
  },
  {
   "cell_type": "markdown",
   "metadata": {},
   "source": [
    "# Next Steps\n",
    "***"
   ]
  },
  {
   "cell_type": "code",
   "execution_count": null,
   "metadata": {},
   "outputs": [],
   "source": [
    "# Your code here - remember to use markdown cells for comments as well!"
   ]
  }
 ],
 "metadata": {
  "kernelspec": {
   "display_name": "Python 3",
   "language": "python",
   "name": "python3"
  },
  "language_info": {
   "codemirror_mode": {
    "name": "ipython",
    "version": 3
   },
   "file_extension": ".py",
   "mimetype": "text/x-python",
   "name": "python",
   "nbconvert_exporter": "python",
   "pygments_lexer": "ipython3",
   "version": "3.8.5"
  }
 },
 "nbformat": 4,
 "nbformat_minor": 2
}
