{
 "cells": [
  {
   "cell_type": "markdown",
   "metadata": {},
   "source": [
    "<img src=\"Images/logo.png\">\n",
    "\n",
    "# <center>Microsoft Movie Studio</center>"
   ]
  },
  {
   "cell_type": "markdown",
   "metadata": {},
   "source": [
    "# Overview\n",
    "***\n",
    "This project's goal is to explore movie analytics to provide actionable insights for Microsoft's new Movie Studio. My goal for this project was to help aid Microsoft in creating a baseline structure which will assist them in deciding what factors are important to take into consideration when producing films! \n",
    "\n",
    "I carried out exploratory analyses on datasets containing information about movie titles, ratings, genres, gross income, and directors to create a selection of business models for Microsoft's consideration.\n",
    "\n",
    "My analyses show that movies under the genres Action, Family, and Mystery, on average, have a higher gross box-office income. But, as far as movie ratings go, Drama and Non-Fiction movies tend to, on average, get higher ratings. This tells us that while Action/Family/Mystery movies generally make more money in the box-office, they are not perceived as well by critics.\n",
    "\n",
    "My analyses also explores movie ratings (G, PG, PG-13, R, NR) and the distribution of total movies made through each category, as well as how well, on average, they are perceived by critics. This data shows that R rated movies are made at a much higher rate and on average are rated 'Fresh' on Rotten Tomatoes more often than any other movie rating\n",
    "\n",
    "As a bonus, I have explored the Top 10 Movie Directors by the number of films they have directed and analyzed their average movie rating. This has shown that Stephen Spielberg has both made the highest number of movies, as well as has the highest average ratings. This tells us that he would be a excellent director to partner with."
   ]
  },
  {
   "cell_type": "markdown",
   "metadata": {},
   "source": [
    "# Business Problem\n",
    "***\n",
    "Questions I will be Analyzing:\n",
    "* What is the distribution of movie ratings and number of movies produced based on genres?\n",
    "* What movie genre, on average, makes the most amount of money in the box office?\n",
    "* What is the distribution for number of movies made by movie rating (G, PG, PG-13, R, or NR), and what percent of them get good ratings? \n",
    "\n",
    "* Who would an ideal director be to get involved in a movie project?\n",
    "***\n",
    "\n",
    "The answers to these questions will allow Microsoft to decide what genres they should focus on as far as how well its perceived by critics and how much money it makes in the box office. It would also provide insight into what movie ratings would follow how the movie industry is trending."
   ]
  },
  {
   "cell_type": "markdown",
   "metadata": {},
   "source": [
    "# Data Understanding\n",
    "---\n",
    "The data used in this project was gathered from IMDB, Rotten Tomatoes, and Box Office Mojo\n",
    "\n",
    "* ```imdb_title_basics```: IMDB data consisting of title ID, primary title name, original title name (if fireign or known by something else), start year, runtime minutes, and a string of genres separated by a comma\n",
    "* ```imdb_title_ratings```: IMDB data consisting of title ID, average rating, and number of votes\n",
    "\n",
    "* ```rt_movie_info```: Rotten Tomato data consisting of ID (which correlates to a unique movie), synopsis, rating, genres, Director, and other data that was not used for the purpose of this project\n",
    "\n",
    "* ```rt_reviews```: Rotten Tomato data consisting of ID (many reviews per movie ID), rating, fresh/rotten, and other data not used for the purpose of this project\n",
    "\n",
    "* ```bom.movie_gross```: BOM data consisting of movie title, studio, domestic gross, foreign gross, year\n",
    "\n",
    "***"
   ]
  },
  {
   "cell_type": "markdown",
   "metadata": {},
   "source": [
    "# Import Packages\n",
    "***"
   ]
  },
  {
   "cell_type": "code",
   "execution_count": 1,
   "metadata": {},
   "outputs": [],
   "source": [
    "import pandas as pd\n",
    "import numpy as np\n",
    "import matplotlib.pyplot as plt\n",
    "import seaborn as sns\n",
    "%matplotlib inline"
   ]
  },
  {
   "cell_type": "markdown",
   "metadata": {},
   "source": [
    "# Data\n",
    "***"
   ]
  },
  {
   "cell_type": "markdown",
   "metadata": {},
   "source": [
    "## Data Preparation\n",
    "```read_csv``` for all necessary data files"
   ]
  },
  {
   "cell_type": "code",
   "execution_count": 2,
   "metadata": {},
   "outputs": [],
   "source": [
    "#CSV files needed for visualization of genre and ratings\n",
    "imdb_title = pd.read_csv(\"Data/imdb.title.basics.csv.gz\")\n",
    "imdb_ratings = pd.read_csv(\"Data/imdb.title.ratings.csv.gz\")"
   ]
  },
  {
   "cell_type": "code",
   "execution_count": 3,
   "metadata": {},
   "outputs": [],
   "source": [
    "#CSV files for finding top directors and their average movie ratings\n",
    "rt_movies = pd.read_csv(\"Data/rt.movie_info.tsv.gz\", sep='\\t')\n",
    "rt_reviews = pd.read_csv(\"Data/rt.reviews.tsv.gz\", sep='\\t', encoding = \"ISO-8859-1\")"
   ]
  },
  {
   "cell_type": "code",
   "execution_count": 4,
   "metadata": {},
   "outputs": [],
   "source": [
    "#CSV files for finding budgets\n",
    "bom_gross = pd.read_csv('Data/bom.movie_gross.csv.gz')"
   ]
  },
  {
   "cell_type": "markdown",
   "metadata": {},
   "source": [
    "## Data Exploration\n",
    "Explore each dataframe for object types, column names, number of rows, and where there are null values"
   ]
  },
  {
   "cell_type": "code",
   "execution_count": 5,
   "metadata": {},
   "outputs": [
    {
     "name": "stdout",
     "output_type": "stream",
     "text": [
      "<class 'pandas.core.frame.DataFrame'>\n",
      "RangeIndex: 146144 entries, 0 to 146143\n",
      "Data columns (total 6 columns):\n",
      " #   Column           Non-Null Count   Dtype  \n",
      "---  ------           --------------   -----  \n",
      " 0   tconst           146144 non-null  object \n",
      " 1   primary_title    146144 non-null  object \n",
      " 2   original_title   146123 non-null  object \n",
      " 3   start_year       146144 non-null  int64  \n",
      " 4   runtime_minutes  114405 non-null  float64\n",
      " 5   genres           140736 non-null  object \n",
      "dtypes: float64(1), int64(1), object(4)\n",
      "memory usage: 6.7+ MB\n"
     ]
    }
   ],
   "source": [
    "imdb_title.info()"
   ]
  },
  {
   "cell_type": "code",
   "execution_count": 6,
   "metadata": {
    "scrolled": true
   },
   "outputs": [
    {
     "name": "stdout",
     "output_type": "stream",
     "text": [
      "<class 'pandas.core.frame.DataFrame'>\n",
      "RangeIndex: 73856 entries, 0 to 73855\n",
      "Data columns (total 3 columns):\n",
      " #   Column         Non-Null Count  Dtype  \n",
      "---  ------         --------------  -----  \n",
      " 0   tconst         73856 non-null  object \n",
      " 1   averagerating  73856 non-null  float64\n",
      " 2   numvotes       73856 non-null  int64  \n",
      "dtypes: float64(1), int64(1), object(1)\n",
      "memory usage: 1.7+ MB\n"
     ]
    }
   ],
   "source": [
    "imdb_ratings.info()"
   ]
  },
  {
   "cell_type": "code",
   "execution_count": 7,
   "metadata": {
    "scrolled": true
   },
   "outputs": [
    {
     "name": "stdout",
     "output_type": "stream",
     "text": [
      "<class 'pandas.core.frame.DataFrame'>\n",
      "RangeIndex: 1560 entries, 0 to 1559\n",
      "Data columns (total 12 columns):\n",
      " #   Column        Non-Null Count  Dtype \n",
      "---  ------        --------------  ----- \n",
      " 0   id            1560 non-null   int64 \n",
      " 1   synopsis      1498 non-null   object\n",
      " 2   rating        1557 non-null   object\n",
      " 3   genre         1552 non-null   object\n",
      " 4   director      1361 non-null   object\n",
      " 5   writer        1111 non-null   object\n",
      " 6   theater_date  1201 non-null   object\n",
      " 7   dvd_date      1201 non-null   object\n",
      " 8   currency      340 non-null    object\n",
      " 9   box_office    340 non-null    object\n",
      " 10  runtime       1530 non-null   object\n",
      " 11  studio        494 non-null    object\n",
      "dtypes: int64(1), object(11)\n",
      "memory usage: 146.4+ KB\n"
     ]
    }
   ],
   "source": [
    "rt_movies.info()"
   ]
  },
  {
   "cell_type": "code",
   "execution_count": 8,
   "metadata": {
    "scrolled": true
   },
   "outputs": [
    {
     "name": "stdout",
     "output_type": "stream",
     "text": [
      "<class 'pandas.core.frame.DataFrame'>\n",
      "RangeIndex: 54432 entries, 0 to 54431\n",
      "Data columns (total 8 columns):\n",
      " #   Column      Non-Null Count  Dtype \n",
      "---  ------      --------------  ----- \n",
      " 0   id          54432 non-null  int64 \n",
      " 1   review      48869 non-null  object\n",
      " 2   rating      40915 non-null  object\n",
      " 3   fresh       54432 non-null  object\n",
      " 4   critic      51710 non-null  object\n",
      " 5   top_critic  54432 non-null  int64 \n",
      " 6   publisher   54123 non-null  object\n",
      " 7   date        54432 non-null  object\n",
      "dtypes: int64(2), object(6)\n",
      "memory usage: 3.3+ MB\n"
     ]
    }
   ],
   "source": [
    "rt_reviews.info()"
   ]
  },
  {
   "cell_type": "code",
   "execution_count": 9,
   "metadata": {},
   "outputs": [
    {
     "name": "stdout",
     "output_type": "stream",
     "text": [
      "<class 'pandas.core.frame.DataFrame'>\n",
      "RangeIndex: 3387 entries, 0 to 3386\n",
      "Data columns (total 5 columns):\n",
      " #   Column          Non-Null Count  Dtype  \n",
      "---  ------          --------------  -----  \n",
      " 0   title           3387 non-null   object \n",
      " 1   studio          3382 non-null   object \n",
      " 2   domestic_gross  3359 non-null   float64\n",
      " 3   foreign_gross   2037 non-null   object \n",
      " 4   year            3387 non-null   int64  \n",
      "dtypes: float64(1), int64(1), object(3)\n",
      "memory usage: 132.4+ KB\n"
     ]
    }
   ],
   "source": [
    "bom_gross.info()"
   ]
  },
  {
   "cell_type": "markdown",
   "metadata": {},
   "source": [
    "### Data Merging\n",
    "Preliminary merging data-frames where we will be analyzing data from two datasets "
   ]
  },
  {
   "cell_type": "code",
   "execution_count": 10,
   "metadata": {},
   "outputs": [
    {
     "data": {
      "text/html": [
       "<div>\n",
       "<style scoped>\n",
       "    .dataframe tbody tr th:only-of-type {\n",
       "        vertical-align: middle;\n",
       "    }\n",
       "\n",
       "    .dataframe tbody tr th {\n",
       "        vertical-align: top;\n",
       "    }\n",
       "\n",
       "    .dataframe thead th {\n",
       "        text-align: right;\n",
       "    }\n",
       "</style>\n",
       "<table border=\"1\" class=\"dataframe\">\n",
       "  <thead>\n",
       "    <tr style=\"text-align: right;\">\n",
       "      <th></th>\n",
       "      <th>tconst</th>\n",
       "      <th>primary_title</th>\n",
       "      <th>original_title</th>\n",
       "      <th>start_year</th>\n",
       "      <th>runtime_minutes</th>\n",
       "      <th>genres</th>\n",
       "      <th>averagerating</th>\n",
       "      <th>numvotes</th>\n",
       "    </tr>\n",
       "  </thead>\n",
       "  <tbody>\n",
       "    <tr>\n",
       "      <th>0</th>\n",
       "      <td>tt0063540</td>\n",
       "      <td>Sunghursh</td>\n",
       "      <td>Sunghursh</td>\n",
       "      <td>2013</td>\n",
       "      <td>175.0</td>\n",
       "      <td>Action,Crime,Drama</td>\n",
       "      <td>7.0</td>\n",
       "      <td>77</td>\n",
       "    </tr>\n",
       "    <tr>\n",
       "      <th>1</th>\n",
       "      <td>tt0066787</td>\n",
       "      <td>One Day Before the Rainy Season</td>\n",
       "      <td>Ashad Ka Ek Din</td>\n",
       "      <td>2019</td>\n",
       "      <td>114.0</td>\n",
       "      <td>Biography,Drama</td>\n",
       "      <td>7.2</td>\n",
       "      <td>43</td>\n",
       "    </tr>\n",
       "    <tr>\n",
       "      <th>2</th>\n",
       "      <td>tt0069049</td>\n",
       "      <td>The Other Side of the Wind</td>\n",
       "      <td>The Other Side of the Wind</td>\n",
       "      <td>2018</td>\n",
       "      <td>122.0</td>\n",
       "      <td>Drama</td>\n",
       "      <td>6.9</td>\n",
       "      <td>4517</td>\n",
       "    </tr>\n",
       "    <tr>\n",
       "      <th>3</th>\n",
       "      <td>tt0069204</td>\n",
       "      <td>Sabse Bada Sukh</td>\n",
       "      <td>Sabse Bada Sukh</td>\n",
       "      <td>2018</td>\n",
       "      <td>NaN</td>\n",
       "      <td>Comedy,Drama</td>\n",
       "      <td>6.1</td>\n",
       "      <td>13</td>\n",
       "    </tr>\n",
       "    <tr>\n",
       "      <th>4</th>\n",
       "      <td>tt0100275</td>\n",
       "      <td>The Wandering Soap Opera</td>\n",
       "      <td>La Telenovela Errante</td>\n",
       "      <td>2017</td>\n",
       "      <td>80.0</td>\n",
       "      <td>Comedy,Drama,Fantasy</td>\n",
       "      <td>6.5</td>\n",
       "      <td>119</td>\n",
       "    </tr>\n",
       "  </tbody>\n",
       "</table>\n",
       "</div>"
      ],
      "text/plain": [
       "      tconst                    primary_title              original_title  \\\n",
       "0  tt0063540                        Sunghursh                   Sunghursh   \n",
       "1  tt0066787  One Day Before the Rainy Season             Ashad Ka Ek Din   \n",
       "2  tt0069049       The Other Side of the Wind  The Other Side of the Wind   \n",
       "3  tt0069204                  Sabse Bada Sukh             Sabse Bada Sukh   \n",
       "4  tt0100275         The Wandering Soap Opera       La Telenovela Errante   \n",
       "\n",
       "   start_year  runtime_minutes                genres  averagerating  numvotes  \n",
       "0        2013            175.0    Action,Crime,Drama            7.0        77  \n",
       "1        2019            114.0       Biography,Drama            7.2        43  \n",
       "2        2018            122.0                 Drama            6.9      4517  \n",
       "3        2018              NaN          Comedy,Drama            6.1        13  \n",
       "4        2017             80.0  Comedy,Drama,Fantasy            6.5       119  "
      ]
     },
     "execution_count": 10,
     "metadata": {},
     "output_type": "execute_result"
    }
   ],
   "source": [
    "#merge movie titles and ratings based on their common column 'tconst'\n",
    "imdb_title_ratings = pd.merge(imdb_title, imdb_ratings, left_on='tconst', right_on='tconst')\n",
    "imdb_title_ratings.head()"
   ]
  },
  {
   "cell_type": "code",
   "execution_count": 11,
   "metadata": {},
   "outputs": [
    {
     "data": {
      "text/html": [
       "<div>\n",
       "<style scoped>\n",
       "    .dataframe tbody tr th:only-of-type {\n",
       "        vertical-align: middle;\n",
       "    }\n",
       "\n",
       "    .dataframe tbody tr th {\n",
       "        vertical-align: top;\n",
       "    }\n",
       "\n",
       "    .dataframe thead th {\n",
       "        text-align: right;\n",
       "    }\n",
       "</style>\n",
       "<table border=\"1\" class=\"dataframe\">\n",
       "  <thead>\n",
       "    <tr style=\"text-align: right;\">\n",
       "      <th></th>\n",
       "      <th>tconst</th>\n",
       "      <th>primary_title</th>\n",
       "      <th>original_title</th>\n",
       "      <th>start_year</th>\n",
       "      <th>runtime_minutes</th>\n",
       "      <th>genres</th>\n",
       "      <th>averagerating</th>\n",
       "      <th>numvotes</th>\n",
       "      <th>title</th>\n",
       "      <th>studio</th>\n",
       "      <th>domestic_gross</th>\n",
       "      <th>foreign_gross</th>\n",
       "      <th>year</th>\n",
       "    </tr>\n",
       "  </thead>\n",
       "  <tbody>\n",
       "    <tr>\n",
       "      <th>346</th>\n",
       "      <td>tt1375666</td>\n",
       "      <td>Inception</td>\n",
       "      <td>Inception</td>\n",
       "      <td>2010</td>\n",
       "      <td>148.0</td>\n",
       "      <td>Action,Adventure,Sci-Fi</td>\n",
       "      <td>8.8</td>\n",
       "      <td>1841066</td>\n",
       "      <td>Inception</td>\n",
       "      <td>WB</td>\n",
       "      <td>292600000.0</td>\n",
       "      <td>535700000</td>\n",
       "      <td>2010</td>\n",
       "    </tr>\n",
       "    <tr>\n",
       "      <th>330</th>\n",
       "      <td>tt1345836</td>\n",
       "      <td>The Dark Knight Rises</td>\n",
       "      <td>The Dark Knight Rises</td>\n",
       "      <td>2012</td>\n",
       "      <td>164.0</td>\n",
       "      <td>Action,Thriller</td>\n",
       "      <td>8.4</td>\n",
       "      <td>1387769</td>\n",
       "      <td>The Dark Knight Rises</td>\n",
       "      <td>WB</td>\n",
       "      <td>448100000.0</td>\n",
       "      <td>636800000</td>\n",
       "      <td>2012</td>\n",
       "    </tr>\n",
       "    <tr>\n",
       "      <th>72</th>\n",
       "      <td>tt0816692</td>\n",
       "      <td>Interstellar</td>\n",
       "      <td>Interstellar</td>\n",
       "      <td>2014</td>\n",
       "      <td>169.0</td>\n",
       "      <td>Adventure,Drama,Sci-Fi</td>\n",
       "      <td>8.6</td>\n",
       "      <td>1299334</td>\n",
       "      <td>Interstellar</td>\n",
       "      <td>Par.</td>\n",
       "      <td>188000000.0</td>\n",
       "      <td>489400000</td>\n",
       "      <td>2014</td>\n",
       "    </tr>\n",
       "    <tr>\n",
       "      <th>755</th>\n",
       "      <td>tt1853728</td>\n",
       "      <td>Django Unchained</td>\n",
       "      <td>Django Unchained</td>\n",
       "      <td>2012</td>\n",
       "      <td>165.0</td>\n",
       "      <td>Drama,Western</td>\n",
       "      <td>8.4</td>\n",
       "      <td>1211405</td>\n",
       "      <td>Django Unchained</td>\n",
       "      <td>Wein.</td>\n",
       "      <td>162800000.0</td>\n",
       "      <td>262600000</td>\n",
       "      <td>2012</td>\n",
       "    </tr>\n",
       "    <tr>\n",
       "      <th>121</th>\n",
       "      <td>tt0993846</td>\n",
       "      <td>The Wolf of Wall Street</td>\n",
       "      <td>The Wolf of Wall Street</td>\n",
       "      <td>2013</td>\n",
       "      <td>180.0</td>\n",
       "      <td>Biography,Crime,Drama</td>\n",
       "      <td>8.2</td>\n",
       "      <td>1035358</td>\n",
       "      <td>The Wolf of Wall Street</td>\n",
       "      <td>Par.</td>\n",
       "      <td>116900000.0</td>\n",
       "      <td>275100000</td>\n",
       "      <td>2013</td>\n",
       "    </tr>\n",
       "  </tbody>\n",
       "</table>\n",
       "</div>"
      ],
      "text/plain": [
       "        tconst            primary_title           original_title  start_year  \\\n",
       "346  tt1375666                Inception                Inception        2010   \n",
       "330  tt1345836    The Dark Knight Rises    The Dark Knight Rises        2012   \n",
       "72   tt0816692             Interstellar             Interstellar        2014   \n",
       "755  tt1853728         Django Unchained         Django Unchained        2012   \n",
       "121  tt0993846  The Wolf of Wall Street  The Wolf of Wall Street        2013   \n",
       "\n",
       "     runtime_minutes                   genres  averagerating  numvotes  \\\n",
       "346            148.0  Action,Adventure,Sci-Fi            8.8   1841066   \n",
       "330            164.0          Action,Thriller            8.4   1387769   \n",
       "72             169.0   Adventure,Drama,Sci-Fi            8.6   1299334   \n",
       "755            165.0            Drama,Western            8.4   1211405   \n",
       "121            180.0    Biography,Crime,Drama            8.2   1035358   \n",
       "\n",
       "                       title studio  domestic_gross foreign_gross  year  \n",
       "346                Inception     WB     292600000.0     535700000  2010  \n",
       "330    The Dark Knight Rises     WB     448100000.0     636800000  2012  \n",
       "72              Interstellar   Par.     188000000.0     489400000  2014  \n",
       "755         Django Unchained  Wein.     162800000.0     262600000  2012  \n",
       "121  The Wolf of Wall Street   Par.     116900000.0     275100000  2013  "
      ]
     },
     "execution_count": 11,
     "metadata": {},
     "output_type": "execute_result"
    }
   ],
   "source": [
    "#merge title_ratings dataframe with bom_gross to get the gross per movie title. Clean so there's no duplicates\n",
    "movie_gross = pd.merge(imdb_title_ratings, bom_gross, left_on=['primary_title','start_year'], right_on=['title', 'year'])\n",
    "movie_gross = movie_gross.sort_values(by='numvotes', ascending=False)\n",
    "movie_gross_unique = movie_gross.drop_duplicates(subset='primary_title', keep='first')\n",
    "movie_gross_unique.head()"
   ]
  },
  {
   "cell_type": "markdown",
   "metadata": {},
   "source": [
    "### Data Cleaning"
   ]
  },
  {
   "cell_type": "markdown",
   "metadata": {},
   "source": [
    "##### 1. Clean up IMDB Title and Ratings Data-frames: Drop any rows with NULL values in the genre column"
   ]
  },
  {
   "cell_type": "code",
   "execution_count": 12,
   "metadata": {},
   "outputs": [],
   "source": [
    "# remove any rows with NULL values in the Genre column for the IMDB titles/ratings dataframe\n",
    "imdb_title_ratings_drop = imdb_title_ratings.dropna(subset=['genres'])"
   ]
  },
  {
   "cell_type": "code",
   "execution_count": 90,
   "metadata": {},
   "outputs": [],
   "source": [
    "#Create a generalized list of popular genres to group movies into based on their 'genre' column\n",
    "genres = ['Action', 'Comedy', 'Horror', 'Western', 'Documentary', 'Sci-Fi', 'Mystery', 'Family', 'Fantasy', 'Drama', 'Thriller', 'Romance', 'Biography']"
   ]
  },
  {
   "cell_type": "markdown",
   "metadata": {},
   "source": [
    "##### 2. Clean up Rotten Tomatoes Data-frame: Drop any rows with NULL values in the ratings column, as well as any ratings consisting of unintelligable characters"
   ]
  },
  {
   "cell_type": "code",
   "execution_count": 14,
   "metadata": {},
   "outputs": [],
   "source": [
    "#Drop rows with NULL values in the rating column as well as any rows with Ratings that are unintelligable\n",
    "rt_reviews_dropna = rt_reviews.dropna(subset=['rating'])\n",
    "rt_reviews_drops = rt_reviews_dropna[(rt_reviews_dropna['rating'] != 'T') & \\\n",
    "                                  (rt_reviews_dropna['rating'] != 'N') & \\\n",
    "                                  (rt_reviews_dropna['rating'] != 'R') & \\\n",
    "                                  (rt_reviews_dropna['rating'] != '1-5') &\\\n",
    "                                  (rt_reviews_dropna['rating'] != '3 1/2') ]"
   ]
  },
  {
   "cell_type": "code",
   "execution_count": 15,
   "metadata": {},
   "outputs": [],
   "source": [
    "#dictionary to map for converting ratings\n",
    "grades = {'A+':9.9, 'A':9.5, 'A-':9.0, 'B+':8.9, 'B':8.5, 'B-':8.0, 'C+':7.9, 'C':7.5, 'C-':7.0, 'D+':6.9, 'D':6.5,'D-':6.0, 'F+':5.9, 'F':5.5, 'F-':5.0}"
   ]
  },
  {
   "cell_type": "markdown",
   "metadata": {},
   "source": [
    "##### 3. Clean up Rotten Tomatoes Data-frame: Drop all rows without a value for 'fresh'"
   ]
  },
  {
   "cell_type": "code",
   "execution_count": 16,
   "metadata": {},
   "outputs": [],
   "source": [
    "#Drop rows with NULL values in the fresh column\n",
    "rt_reviews_fresh = rt_reviews.dropna(subset=['fresh'])"
   ]
  },
  {
   "cell_type": "markdown",
   "metadata": {},
   "source": [
    "### Data Engineering"
   ]
  },
  {
   "cell_type": "markdown",
   "metadata": {},
   "source": [
    "##### 1. Convert Rotten Tomatoes critics ratings (fresh or rotten) into 0 or 1 and aggregate totals by movie rating (G, PG, PG-13, R, NR)"
   ]
  },
  {
   "cell_type": "code",
   "execution_count": 17,
   "metadata": {},
   "outputs": [],
   "source": [
    "#map into integers 0 and 1 whether fresh or rotton and drop any NULL values\n",
    "rt_reviews_fresh['fresh_numeric'] = rt_reviews_fresh['fresh'].map(lambda x: 1 if x == 'fresh' else 0)\n",
    "rt_reviews_fresh['rotten_numeric'] = rt_reviews_fresh['fresh'].map(lambda x: 1 if x == 'rotten' else 0)"
   ]
  },
  {
   "cell_type": "code",
   "execution_count": 18,
   "metadata": {
    "scrolled": true
   },
   "outputs": [],
   "source": [
    "#group by number of fresh and rotton\n",
    "rt_reviews_fresh_grouped = rt_reviews_fresh.groupby(['id', 'fresh']).agg('sum')"
   ]
  },
  {
   "cell_type": "code",
   "execution_count": 19,
   "metadata": {},
   "outputs": [],
   "source": [
    "#merge rt_reviews_fresh with rt_movies to get movie ratings\n",
    "rt_reviews_fresh_merged = pd.merge(rt_movies, rt_reviews_fresh_grouped, left_on='id', right_on='id')"
   ]
  },
  {
   "cell_type": "code",
   "execution_count": 20,
   "metadata": {},
   "outputs": [],
   "source": [
    "#split fresh and rotton up into different dataframes so we compare counts\n",
    "rt_fresh = rt_reviews_fresh_merged[rt_reviews_fresh_merged['fresh_numeric'] >= rt_reviews_fresh_merged['rotten_numeric']]\n",
    "rt_rotton = rt_reviews_fresh_merged[rt_reviews_fresh_merged['rotten_numeric'] > rt_reviews_fresh_merged['fresh_numeric']]"
   ]
  },
  {
   "cell_type": "code",
   "execution_count": 56,
   "metadata": {},
   "outputs": [
    {
     "data": {
      "text/html": [
       "<div>\n",
       "<style scoped>\n",
       "    .dataframe tbody tr th:only-of-type {\n",
       "        vertical-align: middle;\n",
       "    }\n",
       "\n",
       "    .dataframe tbody tr th {\n",
       "        vertical-align: top;\n",
       "    }\n",
       "\n",
       "    .dataframe thead th {\n",
       "        text-align: right;\n",
       "    }\n",
       "</style>\n",
       "<table border=\"1\" class=\"dataframe\">\n",
       "  <thead>\n",
       "    <tr style=\"text-align: right;\">\n",
       "      <th></th>\n",
       "      <th>id</th>\n",
       "      <th>synopsis_x</th>\n",
       "      <th>rating_x</th>\n",
       "      <th>genre_x</th>\n",
       "      <th>director_x</th>\n",
       "      <th>writer_x</th>\n",
       "      <th>theater_date_x</th>\n",
       "      <th>dvd_date_x</th>\n",
       "      <th>currency_x</th>\n",
       "      <th>box_office_x</th>\n",
       "      <th>...</th>\n",
       "      <th>theater_date_y</th>\n",
       "      <th>dvd_date_y</th>\n",
       "      <th>currency_y</th>\n",
       "      <th>box_office_y</th>\n",
       "      <th>runtime_y</th>\n",
       "      <th>studio_y</th>\n",
       "      <th>top_critic_y</th>\n",
       "      <th>fresh_numeric_y</th>\n",
       "      <th>rotten_numeric_y</th>\n",
       "      <th>fresh_rotten</th>\n",
       "    </tr>\n",
       "  </thead>\n",
       "  <tbody>\n",
       "    <tr>\n",
       "      <th>0</th>\n",
       "      <td>3</td>\n",
       "      <td>New York City, not-too-distant-future: Eric Pa...</td>\n",
       "      <td>R</td>\n",
       "      <td>Drama|Science Fiction and Fantasy</td>\n",
       "      <td>David Cronenberg</td>\n",
       "      <td>David Cronenberg|Don DeLillo</td>\n",
       "      <td>Aug 17, 2012</td>\n",
       "      <td>Jan 1, 2013</td>\n",
       "      <td>$</td>\n",
       "      <td>600,000</td>\n",
       "      <td>...</td>\n",
       "      <td>Aug 17, 2012</td>\n",
       "      <td>Jan 1, 2013</td>\n",
       "      <td>$</td>\n",
       "      <td>600,000</td>\n",
       "      <td>108 minutes</td>\n",
       "      <td>Entertainment One</td>\n",
       "      <td>17.0</td>\n",
       "      <td>0.0</td>\n",
       "      <td>60.0</td>\n",
       "      <td>1</td>\n",
       "    </tr>\n",
       "    <tr>\n",
       "      <th>1</th>\n",
       "      <td>5</td>\n",
       "      <td>Illeana Douglas delivers a superb performance ...</td>\n",
       "      <td>R</td>\n",
       "      <td>Drama|Musical and Performing Arts</td>\n",
       "      <td>Allison Anders</td>\n",
       "      <td>Allison Anders</td>\n",
       "      <td>Sep 13, 1996</td>\n",
       "      <td>Apr 18, 2000</td>\n",
       "      <td>NaN</td>\n",
       "      <td>NaN</td>\n",
       "      <td>...</td>\n",
       "      <td>Sep 13, 1996</td>\n",
       "      <td>Apr 18, 2000</td>\n",
       "      <td>NaN</td>\n",
       "      <td>NaN</td>\n",
       "      <td>116 minutes</td>\n",
       "      <td>NaN</td>\n",
       "      <td>4.0</td>\n",
       "      <td>0.0</td>\n",
       "      <td>5.0</td>\n",
       "      <td>1</td>\n",
       "    </tr>\n",
       "    <tr>\n",
       "      <th>2</th>\n",
       "      <td>6</td>\n",
       "      <td>Michael Douglas runs afoul of a treacherous su...</td>\n",
       "      <td>R</td>\n",
       "      <td>Drama|Mystery and Suspense</td>\n",
       "      <td>Barry Levinson</td>\n",
       "      <td>Paul Attanasio|Michael Crichton</td>\n",
       "      <td>Dec 9, 1994</td>\n",
       "      <td>Aug 27, 1997</td>\n",
       "      <td>NaN</td>\n",
       "      <td>NaN</td>\n",
       "      <td>...</td>\n",
       "      <td>Dec 9, 1994</td>\n",
       "      <td>Aug 27, 1997</td>\n",
       "      <td>NaN</td>\n",
       "      <td>NaN</td>\n",
       "      <td>128 minutes</td>\n",
       "      <td>NaN</td>\n",
       "      <td>10.0</td>\n",
       "      <td>0.0</td>\n",
       "      <td>25.0</td>\n",
       "      <td>1</td>\n",
       "    </tr>\n",
       "    <tr>\n",
       "      <th>3</th>\n",
       "      <td>8</td>\n",
       "      <td>The year is 1942. As the Allies unite overseas...</td>\n",
       "      <td>PG</td>\n",
       "      <td>Drama|Kids and Family</td>\n",
       "      <td>Jay Russell</td>\n",
       "      <td>Gail Gilchriest</td>\n",
       "      <td>Mar 3, 2000</td>\n",
       "      <td>Jul 11, 2000</td>\n",
       "      <td>NaN</td>\n",
       "      <td>NaN</td>\n",
       "      <td>...</td>\n",
       "      <td>Mar 3, 2000</td>\n",
       "      <td>Jul 11, 2000</td>\n",
       "      <td>NaN</td>\n",
       "      <td>NaN</td>\n",
       "      <td>95 minutes</td>\n",
       "      <td>Warner Bros. Pictures</td>\n",
       "      <td>6.0</td>\n",
       "      <td>0.0</td>\n",
       "      <td>19.0</td>\n",
       "      <td>1</td>\n",
       "    </tr>\n",
       "    <tr>\n",
       "      <th>4</th>\n",
       "      <td>10</td>\n",
       "      <td>Some cast and crew from NBC's highly acclaimed...</td>\n",
       "      <td>PG-13</td>\n",
       "      <td>Comedy</td>\n",
       "      <td>Jake Kasdan</td>\n",
       "      <td>Mike White</td>\n",
       "      <td>Jan 11, 2002</td>\n",
       "      <td>Jun 18, 2002</td>\n",
       "      <td>$</td>\n",
       "      <td>41,032,915</td>\n",
       "      <td>...</td>\n",
       "      <td>Jan 11, 2002</td>\n",
       "      <td>Jun 18, 2002</td>\n",
       "      <td>$</td>\n",
       "      <td>41,032,915</td>\n",
       "      <td>82 minutes</td>\n",
       "      <td>Paramount Pictures</td>\n",
       "      <td>16.0</td>\n",
       "      <td>0.0</td>\n",
       "      <td>58.0</td>\n",
       "      <td>0</td>\n",
       "    </tr>\n",
       "  </tbody>\n",
       "</table>\n",
       "<p>5 rows × 30 columns</p>\n",
       "</div>"
      ],
      "text/plain": [
       "   id                                         synopsis_x rating_x  \\\n",
       "0   3  New York City, not-too-distant-future: Eric Pa...        R   \n",
       "1   5  Illeana Douglas delivers a superb performance ...        R   \n",
       "2   6  Michael Douglas runs afoul of a treacherous su...        R   \n",
       "3   8  The year is 1942. As the Allies unite overseas...       PG   \n",
       "4  10  Some cast and crew from NBC's highly acclaimed...    PG-13   \n",
       "\n",
       "                             genre_x        director_x  \\\n",
       "0  Drama|Science Fiction and Fantasy  David Cronenberg   \n",
       "1  Drama|Musical and Performing Arts    Allison Anders   \n",
       "2         Drama|Mystery and Suspense    Barry Levinson   \n",
       "3              Drama|Kids and Family       Jay Russell   \n",
       "4                             Comedy       Jake Kasdan   \n",
       "\n",
       "                          writer_x theater_date_x    dvd_date_x currency_x  \\\n",
       "0     David Cronenberg|Don DeLillo   Aug 17, 2012   Jan 1, 2013          $   \n",
       "1                   Allison Anders   Sep 13, 1996  Apr 18, 2000        NaN   \n",
       "2  Paul Attanasio|Michael Crichton    Dec 9, 1994  Aug 27, 1997        NaN   \n",
       "3                  Gail Gilchriest    Mar 3, 2000  Jul 11, 2000        NaN   \n",
       "4                       Mike White   Jan 11, 2002  Jun 18, 2002          $   \n",
       "\n",
       "  box_office_x  ... theater_date_y    dvd_date_y  currency_y  box_office_y  \\\n",
       "0      600,000  ...   Aug 17, 2012   Jan 1, 2013           $       600,000   \n",
       "1          NaN  ...   Sep 13, 1996  Apr 18, 2000         NaN           NaN   \n",
       "2          NaN  ...    Dec 9, 1994  Aug 27, 1997         NaN           NaN   \n",
       "3          NaN  ...    Mar 3, 2000  Jul 11, 2000         NaN           NaN   \n",
       "4   41,032,915  ...   Jan 11, 2002  Jun 18, 2002           $    41,032,915   \n",
       "\n",
       "     runtime_y               studio_y top_critic_y fresh_numeric_y  \\\n",
       "0  108 minutes      Entertainment One         17.0             0.0   \n",
       "1  116 minutes                    NaN          4.0             0.0   \n",
       "2  128 minutes                    NaN         10.0             0.0   \n",
       "3   95 minutes  Warner Bros. Pictures          6.0             0.0   \n",
       "4   82 minutes     Paramount Pictures         16.0             0.0   \n",
       "\n",
       "  rotten_numeric_y fresh_rotten  \n",
       "0             60.0            1  \n",
       "1              5.0            1  \n",
       "2             25.0            1  \n",
       "3             19.0            1  \n",
       "4             58.0            0  \n",
       "\n",
       "[5 rows x 30 columns]"
      ]
     },
     "execution_count": 56,
     "metadata": {},
     "output_type": "execute_result"
    }
   ],
   "source": [
    "#combine them back into one dataframe to determine whether overall fresh or overall rotten\n",
    "rt_fresh_comb = pd.merge(rt_fresh, rt_rotton, how='outer', left_on='id', right_on='id')\n",
    "rt_fresh_comb['fresh_rotten'] = np.where((rt_fresh_comb['fresh_numeric_x'] >= rt_fresh_comb['rotten_numeric_y']), 1, 0)\n",
    "rt_fresh_comb.head()"
   ]
  },
  {
   "cell_type": "code",
   "execution_count": 55,
   "metadata": {},
   "outputs": [],
   "source": [
    "#determine which movies are overall fresh\n",
    "rt_fresh_split = rt_fresh_comb[rt_fresh_comb['fresh_rotten'] == 1]"
   ]
  },
  {
   "cell_type": "code",
   "execution_count": 53,
   "metadata": {},
   "outputs": [],
   "source": [
    "#determine the number of movies per rating which are determined fresh\n",
    "rt_fresh_grouped_rating = rt_fresh_split.groupby(['rating_x'])['fresh_rotten'].sum().reset_index()"
   ]
  },
  {
   "cell_type": "markdown",
   "metadata": {},
   "source": [
    "```ratings```: movie ratings\n",
    "\n",
    "```rt_ratings_totals```: number of total movies for each rating\n",
    "\n",
    "```rt_fresh_totals```: number of total fresh movies for each rating"
   ]
  },
  {
   "cell_type": "code",
   "execution_count": 47,
   "metadata": {},
   "outputs": [
    {
     "data": {
      "text/plain": [
       "Index(['G', 'NR', 'PG', 'PG-13', 'R'], dtype='object')"
      ]
     },
     "execution_count": 47,
     "metadata": {},
     "output_type": "execute_result"
    }
   ],
   "source": [
    "#Create a list of movie ratings for visualization\n",
    "ratings = rt_fresh_grouped_rating['rating_x'].value_counts().sort_index().index\n",
    "ratings"
   ]
  },
  {
   "cell_type": "code",
   "execution_count": 50,
   "metadata": {},
   "outputs": [],
   "source": [
    "#Number of total movies for each ratings (not split by fresh or rotten)\n",
    "rt_ratings_totals = rt_fresh_comb['rating_x'].value_counts().sort_index().values"
   ]
  },
  {
   "cell_type": "code",
   "execution_count": 49,
   "metadata": {},
   "outputs": [
    {
     "data": {
      "text/plain": [
       "array([ 21, 123, 100,  92, 247])"
      ]
     },
     "execution_count": 49,
     "metadata": {},
     "output_type": "execute_result"
    }
   ],
   "source": [
    "#Create a list of number of movies rated fresh per movie rating\n",
    "rt_fresh_totals = rt_fresh_grouped_rating['fresh_rotten'].values\n",
    "rt_fresh_totals"
   ]
  },
  {
   "cell_type": "markdown",
   "metadata": {},
   "source": [
    "##### 2. Convert Rotten Tomato ratings into comparable values to use for analysis for critic ratings for top directors"
   ]
  },
  {
   "cell_type": "code",
   "execution_count": 27,
   "metadata": {},
   "outputs": [],
   "source": [
    "#converts ratings to percents if rating contains '/'\n",
    "def conv_rating(rating):\n",
    "    if '/' in rating:\n",
    "        r = rating.split('/')\n",
    "        return float(r[0])/float(r[1])*10\n",
    "    elif rating in grades:\n",
    "        return grades[rating]\n",
    "    else:\n",
    "        return float(rating)"
   ]
  },
  {
   "cell_type": "code",
   "execution_count": 28,
   "metadata": {},
   "outputs": [],
   "source": [
    "#pass each rating into conv_rating method\n",
    "rt_reviews_conv = rt_reviews_drops.copy()\n",
    "rt_reviews_conv['conv_ratings'] = rt_reviews_conv['rating'].map(lambda x: conv_rating(x))"
   ]
  },
  {
   "cell_type": "code",
   "execution_count": 29,
   "metadata": {},
   "outputs": [],
   "source": [
    "#Combine rows with matching ID column and take average of the ratings\n",
    "rt_reviews_comb = rt_reviews_conv.groupby(['id'])['conv_ratings'].apply(lambda x: x.mean()).reset_index()"
   ]
  },
  {
   "cell_type": "code",
   "execution_count": 51,
   "metadata": {},
   "outputs": [
    {
     "data": {
      "text/html": [
       "<div>\n",
       "<style scoped>\n",
       "    .dataframe tbody tr th:only-of-type {\n",
       "        vertical-align: middle;\n",
       "    }\n",
       "\n",
       "    .dataframe tbody tr th {\n",
       "        vertical-align: top;\n",
       "    }\n",
       "\n",
       "    .dataframe thead th {\n",
       "        text-align: right;\n",
       "    }\n",
       "</style>\n",
       "<table border=\"1\" class=\"dataframe\">\n",
       "  <thead>\n",
       "    <tr style=\"text-align: right;\">\n",
       "      <th></th>\n",
       "      <th>id</th>\n",
       "      <th>synopsis</th>\n",
       "      <th>rating</th>\n",
       "      <th>genre</th>\n",
       "      <th>director</th>\n",
       "      <th>writer</th>\n",
       "      <th>theater_date</th>\n",
       "      <th>dvd_date</th>\n",
       "      <th>currency</th>\n",
       "      <th>box_office</th>\n",
       "      <th>runtime</th>\n",
       "      <th>studio</th>\n",
       "      <th>conv_ratings</th>\n",
       "    </tr>\n",
       "  </thead>\n",
       "  <tbody>\n",
       "    <tr>\n",
       "      <th>0</th>\n",
       "      <td>3</td>\n",
       "      <td>New York City, not-too-distant-future: Eric Pa...</td>\n",
       "      <td>R</td>\n",
       "      <td>Drama|Science Fiction and Fantasy</td>\n",
       "      <td>David Cronenberg</td>\n",
       "      <td>David Cronenberg|Don DeLillo</td>\n",
       "      <td>Aug 17, 2012</td>\n",
       "      <td>Jan 1, 2013</td>\n",
       "      <td>$</td>\n",
       "      <td>600,000</td>\n",
       "      <td>108 minutes</td>\n",
       "      <td>Entertainment One</td>\n",
       "      <td>6.398673</td>\n",
       "    </tr>\n",
       "    <tr>\n",
       "      <th>1</th>\n",
       "      <td>5</td>\n",
       "      <td>Illeana Douglas delivers a superb performance ...</td>\n",
       "      <td>R</td>\n",
       "      <td>Drama|Musical and Performing Arts</td>\n",
       "      <td>Allison Anders</td>\n",
       "      <td>Allison Anders</td>\n",
       "      <td>Sep 13, 1996</td>\n",
       "      <td>Apr 18, 2000</td>\n",
       "      <td>NaN</td>\n",
       "      <td>NaN</td>\n",
       "      <td>116 minutes</td>\n",
       "      <td>NaN</td>\n",
       "      <td>6.945000</td>\n",
       "    </tr>\n",
       "    <tr>\n",
       "      <th>2</th>\n",
       "      <td>6</td>\n",
       "      <td>Michael Douglas runs afoul of a treacherous su...</td>\n",
       "      <td>R</td>\n",
       "      <td>Drama|Mystery and Suspense</td>\n",
       "      <td>Barry Levinson</td>\n",
       "      <td>Paul Attanasio|Michael Crichton</td>\n",
       "      <td>Dec 9, 1994</td>\n",
       "      <td>Aug 27, 1997</td>\n",
       "      <td>NaN</td>\n",
       "      <td>NaN</td>\n",
       "      <td>128 minutes</td>\n",
       "      <td>NaN</td>\n",
       "      <td>5.995122</td>\n",
       "    </tr>\n",
       "    <tr>\n",
       "      <th>3</th>\n",
       "      <td>8</td>\n",
       "      <td>The year is 1942. As the Allies unite overseas...</td>\n",
       "      <td>PG</td>\n",
       "      <td>Drama|Kids and Family</td>\n",
       "      <td>Jay Russell</td>\n",
       "      <td>Gail Gilchriest</td>\n",
       "      <td>Mar 3, 2000</td>\n",
       "      <td>Jul 11, 2000</td>\n",
       "      <td>NaN</td>\n",
       "      <td>NaN</td>\n",
       "      <td>95 minutes</td>\n",
       "      <td>Warner Bros. Pictures</td>\n",
       "      <td>7.142500</td>\n",
       "    </tr>\n",
       "    <tr>\n",
       "      <th>4</th>\n",
       "      <td>10</td>\n",
       "      <td>Some cast and crew from NBC's highly acclaimed...</td>\n",
       "      <td>PG-13</td>\n",
       "      <td>Comedy</td>\n",
       "      <td>Jake Kasdan</td>\n",
       "      <td>Mike White</td>\n",
       "      <td>Jan 11, 2002</td>\n",
       "      <td>Jun 18, 2002</td>\n",
       "      <td>$</td>\n",
       "      <td>41,032,915</td>\n",
       "      <td>82 minutes</td>\n",
       "      <td>Paramount Pictures</td>\n",
       "      <td>5.941803</td>\n",
       "    </tr>\n",
       "  </tbody>\n",
       "</table>\n",
       "</div>"
      ],
      "text/plain": [
       "   id                                           synopsis rating  \\\n",
       "0   3  New York City, not-too-distant-future: Eric Pa...      R   \n",
       "1   5  Illeana Douglas delivers a superb performance ...      R   \n",
       "2   6  Michael Douglas runs afoul of a treacherous su...      R   \n",
       "3   8  The year is 1942. As the Allies unite overseas...     PG   \n",
       "4  10  Some cast and crew from NBC's highly acclaimed...  PG-13   \n",
       "\n",
       "                               genre          director  \\\n",
       "0  Drama|Science Fiction and Fantasy  David Cronenberg   \n",
       "1  Drama|Musical and Performing Arts    Allison Anders   \n",
       "2         Drama|Mystery and Suspense    Barry Levinson   \n",
       "3              Drama|Kids and Family       Jay Russell   \n",
       "4                             Comedy       Jake Kasdan   \n",
       "\n",
       "                            writer  theater_date      dvd_date currency  \\\n",
       "0     David Cronenberg|Don DeLillo  Aug 17, 2012   Jan 1, 2013        $   \n",
       "1                   Allison Anders  Sep 13, 1996  Apr 18, 2000      NaN   \n",
       "2  Paul Attanasio|Michael Crichton   Dec 9, 1994  Aug 27, 1997      NaN   \n",
       "3                  Gail Gilchriest   Mar 3, 2000  Jul 11, 2000      NaN   \n",
       "4                       Mike White  Jan 11, 2002  Jun 18, 2002        $   \n",
       "\n",
       "   box_office      runtime                 studio  conv_ratings  \n",
       "0     600,000  108 minutes      Entertainment One      6.398673  \n",
       "1         NaN  116 minutes                    NaN      6.945000  \n",
       "2         NaN  128 minutes                    NaN      5.995122  \n",
       "3         NaN   95 minutes  Warner Bros. Pictures      7.142500  \n",
       "4  41,032,915   82 minutes     Paramount Pictures      5.941803  "
      ]
     },
     "execution_count": 51,
     "metadata": {},
     "output_type": "execute_result"
    }
   ],
   "source": [
    "#merge Rotten Tomato movie Dataframe with the Ratings Dataframe\n",
    "rt_movie_rev = pd.merge(rt_movies, rt_reviews_comb, left_on='id', right_on='id')\n",
    "rt_movie_rev.head()"
   ]
  },
  {
   "cell_type": "markdown",
   "metadata": {},
   "source": [
    "```top_directors```: Top 10 directors by number of movies\n",
    "\n",
    "```final_direct_ratings```: Average rating for each top directors movies"
   ]
  },
  {
   "cell_type": "code",
   "execution_count": 31,
   "metadata": {
    "scrolled": true
   },
   "outputs": [],
   "source": [
    "#Create a list of the top 10 directors for visualization\n",
    "top_directors = rt_movie_rev['director'].value_counts().index[:10].values"
   ]
  },
  {
   "cell_type": "code",
   "execution_count": 32,
   "metadata": {},
   "outputs": [],
   "source": [
    "#Take only the ratings with indexes that have a director in the top 10\n",
    "top_direct_ratings = rt_movie_rev.loc[rt_movie_rev['director'].isin(top_directors)]"
   ]
  },
  {
   "cell_type": "code",
   "execution_count": 33,
   "metadata": {
    "scrolled": true
   },
   "outputs": [],
   "source": [
    "#Group by again so we can take the average rating of all the directors movies\n",
    "final_direct_ratings = top_direct_ratings.groupby(['director'])['conv_ratings'].apply(lambda x: x.mean()).reset_index()\n"
   ]
  },
  {
   "cell_type": "markdown",
   "metadata": {},
   "source": [
    "##### 3. Find the average rating for movies in IMDB Data-frame. Combine Genre data to make comparable and easy to visualize"
   ]
  },
  {
   "cell_type": "code",
   "execution_count": 92,
   "metadata": {},
   "outputs": [],
   "source": [
    "#iterate through each title in title list to find average rating. add avg rating to list on actor/director name\n",
    "def find_rating(title_list):\n",
    "    avg_rating = 0\n",
    "    len_list = len(title_list)\n",
    "    for title in title_list:\n",
    "        row = imdb_ratings.loc[imdb_ratings['tconst'] == title]\n",
    "        if len(row['averagerating'].values) > 0:\n",
    "            avg_rating += row['averagerating'].values[0]\n",
    "        else:\n",
    "            len_list -= 1\n",
    "    return avg_rating"
   ]
  },
  {
   "cell_type": "code",
   "execution_count": 93,
   "metadata": {},
   "outputs": [],
   "source": [
    "#helper method to generalize genre\n",
    "def find_genre(genre_list):\n",
    "    for gen in genre_list:\n",
    "        if gen in genres:\n",
    "            return gen"
   ]
  },
  {
   "cell_type": "code",
   "execution_count": 94,
   "metadata": {},
   "outputs": [
    {
     "data": {
      "text/html": [
       "<div>\n",
       "<style scoped>\n",
       "    .dataframe tbody tr th:only-of-type {\n",
       "        vertical-align: middle;\n",
       "    }\n",
       "\n",
       "    .dataframe tbody tr th {\n",
       "        vertical-align: top;\n",
       "    }\n",
       "\n",
       "    .dataframe thead th {\n",
       "        text-align: right;\n",
       "    }\n",
       "</style>\n",
       "<table border=\"1\" class=\"dataframe\">\n",
       "  <thead>\n",
       "    <tr style=\"text-align: right;\">\n",
       "      <th></th>\n",
       "      <th>tconst</th>\n",
       "      <th>primary_title</th>\n",
       "      <th>original_title</th>\n",
       "      <th>start_year</th>\n",
       "      <th>runtime_minutes</th>\n",
       "      <th>genres</th>\n",
       "      <th>averagerating</th>\n",
       "      <th>numvotes</th>\n",
       "      <th>overall_genre</th>\n",
       "    </tr>\n",
       "  </thead>\n",
       "  <tbody>\n",
       "    <tr>\n",
       "      <th>0</th>\n",
       "      <td>tt0063540</td>\n",
       "      <td>Sunghursh</td>\n",
       "      <td>Sunghursh</td>\n",
       "      <td>2013</td>\n",
       "      <td>175.0</td>\n",
       "      <td>Action,Crime,Drama</td>\n",
       "      <td>7.0</td>\n",
       "      <td>77</td>\n",
       "      <td>Action</td>\n",
       "    </tr>\n",
       "    <tr>\n",
       "      <th>1</th>\n",
       "      <td>tt0066787</td>\n",
       "      <td>One Day Before the Rainy Season</td>\n",
       "      <td>Ashad Ka Ek Din</td>\n",
       "      <td>2019</td>\n",
       "      <td>114.0</td>\n",
       "      <td>Biography,Drama</td>\n",
       "      <td>7.2</td>\n",
       "      <td>43</td>\n",
       "      <td>Biography</td>\n",
       "    </tr>\n",
       "    <tr>\n",
       "      <th>2</th>\n",
       "      <td>tt0069049</td>\n",
       "      <td>The Other Side of the Wind</td>\n",
       "      <td>The Other Side of the Wind</td>\n",
       "      <td>2018</td>\n",
       "      <td>122.0</td>\n",
       "      <td>Drama</td>\n",
       "      <td>6.9</td>\n",
       "      <td>4517</td>\n",
       "      <td>Drama</td>\n",
       "    </tr>\n",
       "    <tr>\n",
       "      <th>3</th>\n",
       "      <td>tt0069204</td>\n",
       "      <td>Sabse Bada Sukh</td>\n",
       "      <td>Sabse Bada Sukh</td>\n",
       "      <td>2018</td>\n",
       "      <td>NaN</td>\n",
       "      <td>Comedy,Drama</td>\n",
       "      <td>6.1</td>\n",
       "      <td>13</td>\n",
       "      <td>Comedy</td>\n",
       "    </tr>\n",
       "    <tr>\n",
       "      <th>4</th>\n",
       "      <td>tt0100275</td>\n",
       "      <td>The Wandering Soap Opera</td>\n",
       "      <td>La Telenovela Errante</td>\n",
       "      <td>2017</td>\n",
       "      <td>80.0</td>\n",
       "      <td>Comedy,Drama,Fantasy</td>\n",
       "      <td>6.5</td>\n",
       "      <td>119</td>\n",
       "      <td>Comedy</td>\n",
       "    </tr>\n",
       "  </tbody>\n",
       "</table>\n",
       "</div>"
      ],
      "text/plain": [
       "      tconst                    primary_title              original_title  \\\n",
       "0  tt0063540                        Sunghursh                   Sunghursh   \n",
       "1  tt0066787  One Day Before the Rainy Season             Ashad Ka Ek Din   \n",
       "2  tt0069049       The Other Side of the Wind  The Other Side of the Wind   \n",
       "3  tt0069204                  Sabse Bada Sukh             Sabse Bada Sukh   \n",
       "4  tt0100275         The Wandering Soap Opera       La Telenovela Errante   \n",
       "\n",
       "   start_year  runtime_minutes                genres  averagerating  numvotes  \\\n",
       "0        2013            175.0    Action,Crime,Drama            7.0        77   \n",
       "1        2019            114.0       Biography,Drama            7.2        43   \n",
       "2        2018            122.0                 Drama            6.9      4517   \n",
       "3        2018              NaN          Comedy,Drama            6.1        13   \n",
       "4        2017             80.0  Comedy,Drama,Fantasy            6.5       119   \n",
       "\n",
       "  overall_genre  \n",
       "0        Action  \n",
       "1     Biography  \n",
       "2         Drama  \n",
       "3        Comedy  \n",
       "4        Comedy  "
      ]
     },
     "execution_count": 94,
     "metadata": {},
     "output_type": "execute_result"
    }
   ],
   "source": [
    "#assigns one genre to movie to make easier to group and organize. Make copy beforehad to avoid warnings\n",
    "imdb_title_ratings_map = imdb_title_ratings_drop.copy()\n",
    "imdb_title_ratings_map['overall_genre'] = imdb_title_ratings_map['genres'].map(lambda x: find_genre(x.split(',')))\n",
    "imdb_title_ratings_map.head()"
   ]
  },
  {
   "cell_type": "markdown",
   "metadata": {},
   "source": [
    "the following data-frames are used for visualizing the distribution of each genre"
   ]
  },
  {
   "cell_type": "code",
   "execution_count": 95,
   "metadata": {},
   "outputs": [],
   "source": [
    "#groups genres into similar categories to make easier to visualize \n",
    "ratings_action_scifi = imdb_title_ratings_map[(imdb_title_ratings_map['overall_genre'] == 'Action') |(imdb_title_ratings_map['overall_genre'] == 'Sci_Fi') | (imdb_title_ratings_map['overall_genre'] == 'Fantasy')]\n",
    "ratings_comedy = imdb_title_ratings_map[imdb_title_ratings_map['overall_genre'] == 'Comedy']\n",
    "ratings_horror = imdb_title_ratings_map[(imdb_title_ratings_map['overall_genre'] == 'Thriller') | (imdb_title_ratings_map['overall_genre'] == 'Horror')]\n",
    "ratings_drama = imdb_title_ratings_map[(imdb_title_ratings_map['overall_genre'] == 'Drama') | (imdb_title_ratings_map['overall_genre'] == 'Romance')]\n",
    "ratings_nonfiction = imdb_title_ratings_map[(imdb_title_ratings_map['overall_genre'] == 'Biography') | (imdb_title_ratings_map['overall_genre'] == 'Documentary')]\n",
    "ratings_other = imdb_title_ratings_map[(imdb_title_ratings_map['overall_genre'] == 'Family') | (imdb_title_ratings_map['overall_genre'] == 'Mystery') | \\\n",
    "                                          (imdb_title_ratings_map['overall_genre'] == 'Western') | (imdb_title_ratings_map['overall_genre'] == 'Other')]\n"
   ]
  },
  {
   "cell_type": "markdown",
   "metadata": {},
   "source": [
    "##### 5. Find the average domestic_gross for each generalized genre"
   ]
  },
  {
   "cell_type": "code",
   "execution_count": 96,
   "metadata": {
    "scrolled": false
   },
   "outputs": [],
   "source": [
    "#Use the find_genre method to generalize genre for visualization correlating domestic_gross and genre\n",
    "movie_gross_map = movie_gross_unique.copy()\n",
    "movie_gross_map['overall_genre'] = movie_gross_map['genres'].map(lambda x: find_genre(x.split(',')))"
   ]
  },
  {
   "cell_type": "code",
   "execution_count": 100,
   "metadata": {},
   "outputs": [],
   "source": [
    "#Create a list of genres and corresponding average domestic_gross\n",
    "avg_gross_by_genre = movie_gross_map.groupby(['overall_genre'])['domestic_gross'].apply(lambda x: x.mean()).reset_index()\n",
    "avg_genre = avg_gross_by_genre['overall_genre'].values\n",
    "avg_gross = avg_gross_by_genre['domestic_gross'].values"
   ]
  },
  {
   "cell_type": "markdown",
   "metadata": {},
   "source": [
    "# Visualizations\n",
    "***"
   ]
  },
  {
   "cell_type": "code",
   "execution_count": 98,
   "metadata": {},
   "outputs": [
    {
     "data": {
      "image/png": "[encoded data removed]",
      "text/plain": [
       "<Figure size 1080x360 with 1 Axes>"
      ]
     },
     "metadata": {
      "needs_background": "light"
     },
     "output_type": "display_data"
    }
   ],
   "source": [
    "# Visualization for mapping a distribution of movie ratings by genre\n",
    "fig, ax = plt.subplots(figsize=(15,5))\n",
    "bins = 80\n",
    "\n",
    "ax.hist(x=ratings_drama['averagerating'], label=\"Drama\",\n",
    "    bins=bins,\n",
    "    color=\"black\",\n",
    "    alpha=0.5)\n",
    "ax.hist(x=ratings_nonfiction['averagerating'], label=\"Non-Fiction\",\n",
    "    bins=bins,\n",
    "    color=\"teal\",\n",
    "    alpha=0.5)\n",
    "ax.hist(x=ratings_comedy['averagerating'], label=\"Comedy\",\n",
    "    bins=bins,\n",
    "    color=\"red\",\n",
    "    alpha=0.5)\n",
    "ax.hist(x=ratings_action_scifi['averagerating'], label=\"Action/Sci-Fi\",\n",
    "    bins=bins,\n",
    "    color=\"yellow\",\n",
    "    alpha=0.5)\n",
    "ax.hist(x=ratings_horror['averagerating'], label=\"Horror\",\n",
    "    bins=bins,\n",
    "    color=\"green\",\n",
    "    alpha=0.5)\n",
    "\n",
    "\n",
    "# Customize labels\n",
    "ax.set_title(\"Distributions of Movie Ratings by Genres\")\n",
    "ax.set_xlabel(\"Movie Ratings\")\n",
    "ax.set_ylabel(\"Number of Movies\")\n",
    "ax.legend()\n",
    "plt.savefig(\"./Images/movie_ratings_by_genre.png\", dpi=150);"
   ]
  },
  {
   "cell_type": "markdown",
   "metadata": {},
   "source": [
    "```Average rating for Drama: 6.3470974044097135\n",
    "Average rating for Non-Fiction: 7.292722416048845\n",
    "Average rating for Comedy: 6.005628121398386\n",
    "Average rating for Action/Sci-FI: 5.806539581678581\n",
    "Average rating for Horror: 5.108700999231361```"
   ]
  },
  {
   "cell_type": "code",
   "execution_count": 41,
   "metadata": {
    "scrolled": false
   },
   "outputs": [
    {
     "data": {
      "text/plain": [
       "count    21498.000000\n",
       "mean         6.347097\n",
       "std          1.273435\n",
       "min          1.000000\n",
       "25%          5.600000\n",
       "50%          6.400000\n",
       "75%          7.200000\n",
       "max         10.000000\n",
       "Name: averagerating, dtype: float64"
      ]
     },
     "execution_count": 41,
     "metadata": {},
     "output_type": "execute_result"
    }
   ],
   "source": [
    "ratings_drama['averagerating'].describe()"
   ]
  },
  {
   "cell_type": "code",
   "execution_count": 42,
   "metadata": {
    "scrolled": true
   },
   "outputs": [
    {
     "name": "stdout",
     "output_type": "stream",
     "text": [
      "Average rating for Drama: 6.3470974044097135\n",
      "Average rating for Non-Fiction: 7.292722416048845\n",
      "Average rating for Comedy: 6.005628121398386\n",
      "Average rating for Action/Sci-FI: 5.806539581678581\n",
      "Average rating for Horror: 5.108700999231361\n"
     ]
    }
   ],
   "source": [
    "print('Average rating for Drama: {}'.format(ratings_drama['averagerating'].mean()))\n",
    "print('Average rating for Non-Fiction: {}'.format(ratings_nonfiction['averagerating'].mean()))\n",
    "print('Average rating for Comedy: {}'.format(ratings_comedy['averagerating'].mean()))\n",
    "print('Average rating for Action/Sci-FI: {}'.format(ratings_action_scifi['averagerating'].mean()))\n",
    "print('Average rating for Horror: {}'.format(ratings_horror['averagerating'].mean()))"
   ]
  },
  {
   "cell_type": "markdown",
   "metadata": {},
   "source": [
    "---"
   ]
  },
  {
   "cell_type": "code",
   "execution_count": 101,
   "metadata": {
    "scrolled": true
   },
   "outputs": [
    {
     "data": {
      "image/png": "[encoded data removed]",
      "text/plain": [
       "<Figure size 1080x360 with 1 Axes>"
      ]
     },
     "metadata": {
      "needs_background": "light"
     },
     "output_type": "display_data"
    }
   ],
   "source": [
    "# Visualization for mapping a distribution of movie box office income by genre\n",
    "fig, ax = plt.subplots(figsize=(15,5))\n",
    "\n",
    "sns.barplot(x=avg_genre, y=avg_gross, palette='cividis')\n",
    "\n",
    "ax.set_title(\"Movie Gross By Genre\")\n",
    "ax.set_xlabel(\"Genre\")\n",
    "ax.set_ylabel(\"Movie Gross (Millions)\")\n",
    "plt.savefig(\"./Images/movie_gross_by_genre.png\", dpi=150);"
   ]
  },
  {
   "cell_type": "markdown",
   "metadata": {},
   "source": [
    "---"
   ]
  },
  {
   "cell_type": "code",
   "execution_count": 44,
   "metadata": {},
   "outputs": [
    {
     "data": {
      "image/png": "[encoded data removed]",
      "text/plain": [
       "<Figure size 576x360 with 1 Axes>"
      ]
     },
     "metadata": {
      "needs_background": "light"
     },
     "output_type": "display_data"
    }
   ],
   "source": [
    "# Visualization for mapping number of movies per rating and how 'fresh' they are perceived by critics\n",
    "fig, ax = plt.subplots(figsize=(8,5))\n",
    "\n",
    "ax.bar(ratings, rt_ratings_totals, color='cadetblue', label='Total Num Movies')\n",
    "ax.bar(ratings, rt_fresh_totals, color='goldenrod', label='Num Fresh Movies') # percent that are fresh vs rotton\n",
    "\n",
    "\n",
    "# Customize labels\n",
    "ax.set_title(\"Percentage of Movies 'Fresh' Within Movie Ratings\")\n",
    "ax.set_xlabel(\"Movie Ratings\")\n",
    "ax.set_ylabel(\"Number of Movies\")\n",
    "ax.legend()\n",
    "plt.savefig(\"./Images/freshness_by_movie_rating.png\", dpi=150);"
   ]
  },
  {
   "cell_type": "code",
   "execution_count": 45,
   "metadata": {},
   "outputs": [
    {
     "data": {
      "text/plain": [
       "array([56.75675676, 55.90909091, 54.34782609, 45.32019704, 59.95145631])"
      ]
     },
     "execution_count": 45,
     "metadata": {},
     "output_type": "execute_result"
    }
   ],
   "source": [
    "perc = (rt_fresh_totals/rt_ratings_totals)*100\n",
    "perc"
   ]
  },
  {
   "cell_type": "markdown",
   "metadata": {},
   "source": [
    "``` G: 57% Fresh\n",
    "NR: 56% Fresh\n",
    "PG: 54% Fresh\n",
    "PG-13: 45% Fresh\n",
    "R: 60% Fresh```"
   ]
  },
  {
   "cell_type": "markdown",
   "metadata": {},
   "source": [
    "---"
   ]
  },
  {
   "cell_type": "code",
   "execution_count": 46,
   "metadata": {
    "scrolled": true
   },
   "outputs": [
    {
     "data": {
      "image/png": "[encoded data removed]",
      "text/plain": [
       "<Figure size 1080x360 with 1 Axes>"
      ]
     },
     "metadata": {
      "needs_background": "light"
     },
     "output_type": "display_data"
    }
   ],
   "source": [
    "# Visualization for mapping top 10 directors and their average movie ratings\n",
    "fig, ax = plt.subplots(figsize=(15,5))\n",
    "\n",
    "ax.bar(top_directors, final_direct_ratings['conv_ratings'], color='cadetblue')\n",
    "\n",
    "ax.set_title(\"Top 10 Movie Producers and Their Average Movie Rating\")\n",
    "ax.set_xlabel('Director')\n",
    "ax.set_ylabel('Avg Movie Rating')\n",
    "plt.savefig(\"./Images/top_movie_directors_ratings.png\", dpi=150);"
   ]
  },
  {
   "cell_type": "markdown",
   "metadata": {},
   "source": [
    "# Conclusion\n",
    "***\n",
    "\n",
    "This analysis leads to three recommendations for movie productions:\n",
    "1. Action or Family based on gross box-office income\n",
    "2. Documentary or Biography based on viewer/critic ratings\n",
    "3. R rated movie based on overall critic response\n",
    "\n",
    "(Bonus would be to get Steven Spielberg to direct the movie, fortunately he directs a lot of Action/Sci-Fi movies, so this correlates to high gross box-office income as well)\n"
   ]
  },
  {
   "cell_type": "markdown",
   "metadata": {},
   "source": [
    "# Next Steps\n",
    "***\n",
    "\n",
    "Further Questions to Consider?\n",
    "\n",
    "* Who are some up of the top up and coming actors? People who have had a recent increase in roles and are expected to continue to thrive\n",
    "\n",
    "* How have the popularities of genres changed over time? Number of movies for each genre over time? Ratings of each genre over time?\n",
    "\n"
   ]
  }
 ],
 "metadata": {
  "kernelspec": {
   "display_name": "Python 3",
   "language": "python",
   "name": "python3"
  },
  "language_info": {
   "codemirror_mode": {
    "name": "ipython",
    "version": 3
   },
   "file_extension": ".py",
   "mimetype": "text/x-python",
   "name": "python",
   "nbconvert_exporter": "python",
   "pygments_lexer": "ipython3",
   "version": "3.8.5"
  }
 },
 "nbformat": 4,
 "nbformat_minor": 2
}
