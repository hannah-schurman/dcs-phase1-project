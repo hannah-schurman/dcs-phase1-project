{
 "cells": [
  {
   "cell_type": "markdown",
   "metadata": {},
   "source": [
    "# Here you run your code to model the data\n",
    "Evaluation\n",
    "Evaluate how well your work solves the stated business problem.\n",
    "\n",
    "Questions to consider:\n",
    "\n",
    "How do you interpret the results?\n",
    "How well does your model fit your data? How much better is this than your baseline model?\n",
    "How confident are you that your results would generalize beyond the data you have?\n",
    "How confident are you that this model would benefit the business if put into use?\n",
    "Conclusions\n",
    "Provide your conclusions about the work you've done, including any limitations or next steps.\n",
    "\n",
    "Questions to consider:\n",
    "\n",
    "What would you recommend the business do as a result of this work?\n",
    "What are some reasons why your analysis might not fully solve the business problem?\n",
    "What else could you do in the future to improve this project?\n",
    "\n",
    "\n"
   ]
  },
  {
   "cell_type": "markdown",
   "metadata": {},
   "source": [
    "<img src=\"Images/logo.png\">\n",
    "\n",
    "# <center>Microsoft Movie Studio</center>"
   ]
  },
  {
   "cell_type": "markdown",
   "metadata": {},
   "source": [
    "# Overview\n",
    "***"
   ]
  },
  {
   "cell_type": "markdown",
   "metadata": {},
   "source": [
    "#Overview A one-paragraph overview of the project, including the business problem, data, methods, results and recommendations."
   ]
  },
  {
   "cell_type": "markdown",
   "metadata": {},
   "source": [
    "This project explores different movie analytics from the last 10 years to provide insights regarding ... for Microsoft's new Movie Studio. \n",
    "\n",
    "Exploritory analysis of movie ratings and genre data shows us the associations between a movies average IMDB rating and the genre, as well as the number of movie productions within that genre.\n",
    "\n",
    "The project also gathers top 10 directors from Rotton Tomatos as well as the average ratings for all their movies.\n",
    "\n",
    "Three concrete business recommendations\n",
    "\n",
    "We can use these analyses to provide an actionable insights into what types of movies would be most beneficial for Microsoft's Movie Studio to produce, as well as people who would be beneificial to have star and direct."
   ]
  },
  {
   "cell_type": "markdown",
   "metadata": {},
   "source": [
    "# Business Problem\n",
    "\n",
    "***"
   ]
  },
  {
   "cell_type": "markdown",
   "metadata": {},
   "source": [
    "#Business Problem Summary of the business problem you are trying to solve, and the data questions that you plan to answer to solve them.\n",
    "\n",
    "**hello**\n",
    "\n",
    "***\n",
    "Questions to Consider:\n",
    "* What ...\n",
    "***\n",
    "\n",
    "[link] ()\n",
    "\n",
    "1. hello\n",
    "2. hello\n",
    "\n",
    "\n",
    "``` code block```"
   ]
  },
  {
   "cell_type": "code",
   "execution_count": null,
   "metadata": {},
   "outputs": [],
   "source": [
    "# Questions to consider:\n",
    "\n",
    "# What are the business's pain points related to this project? How did you pick the data analysis question(s) that you did? Why are these questions important from a business perspective? Data Understanding Describe the data being used for this project.\n",
    "\n",
    "# Questions to consider:\n",
    "\n",
    "# Where did the data come from, and how do they relate to the data analysis questions? What do the data represent? Who is in the sample and what variables are included? What is the target variable? What are the properties of the variables you intend to use?"
   ]
  },
  {
   "cell_type": "markdown",
   "metadata": {},
   "source": [
    "# Data Understanding\n",
    "---"
   ]
  },
  {
   "cell_type": "markdown",
   "metadata": {},
   "source": [
    "The data used in this project is gathered from IMDB, Rotton Tomatoes, Box Office Mojo, The Movie Database, and The Numbers.\n",
    "\n",
    "\n",
    "***\n",
    "### Questions I Will Be Analysing\n",
    "\n",
    "1. What is the distribution of movie ratings and genres?\n",
    "2. What are the top 5 actors and directors?\n",
    "3. "
   ]
  },
  {
   "cell_type": "markdown",
   "metadata": {},
   "source": [
    "# Import Packages\n",
    "***"
   ]
  },
  {
   "cell_type": "code",
   "execution_count": 1,
   "metadata": {},
   "outputs": [],
   "source": [
    "import pandas as pd\n",
    "import numpy as np\n",
    "import matplotlib.pyplot as plt\n",
    "import seaborn as sns\n",
    "%matplotlib inline"
   ]
  },
  {
   "cell_type": "markdown",
   "metadata": {},
   "source": [
    "# Data\n",
    "***"
   ]
  },
  {
   "cell_type": "markdown",
   "metadata": {},
   "source": [
    "## Data Exploration"
   ]
  },
  {
   "cell_type": "code",
   "execution_count": 1,
   "metadata": {},
   "outputs": [],
   "source": [
    "# picture of the different tables and how they connect (sql style with primary keys, foreign keys, and how they relate, etc?)"
   ]
  },
  {
   "cell_type": "code",
   "execution_count": null,
   "metadata": {},
   "outputs": [],
   "source": [
    "#explaination of data being read in"
   ]
  },
  {
   "cell_type": "markdown",
   "metadata": {},
   "source": [
    "## Data Preparation"
   ]
  },
  {
   "cell_type": "markdown",
   "metadata": {},
   "source": [
    "```read_csv``` for all necessary data files"
   ]
  },
  {
   "cell_type": "code",
   "execution_count": 2,
   "metadata": {},
   "outputs": [],
   "source": [
    "#CSV files needed for visualization of genre and ratings\n",
    "imdb_title = pd.read_csv(\"Data/imdb.title.basics.csv.gz\")\n",
    "imdb_ratings = pd.read_csv(\"Data/imdb.title.ratings.csv.gz\")"
   ]
  },
  {
   "cell_type": "code",
   "execution_count": 3,
   "metadata": {},
   "outputs": [],
   "source": [
    "#CSV files needed for analyzing most popular people (directors and actors)\n",
    "imdb_names = pd.read_csv(\"Data/imdb.name.basics.csv.gz\")"
   ]
  },
  {
   "cell_type": "code",
   "execution_count": 82,
   "metadata": {},
   "outputs": [],
   "source": [
    "#CSV files for finding top directors and their average movie ratings\n",
    "rt_movies = pd.read_csv(\"Data/rt.movie_info.tsv.gz\", sep='\\t')\n",
    "rt_reviews = pd.read_csv(\"Data/rt.reviews.tsv.gz\", sep='\\t', encoding = \"ISO-8859-1\")"
   ]
  },
  {
   "cell_type": "code",
   "execution_count": 264,
   "metadata": {},
   "outputs": [
    {
     "data": {
      "text/plain": [
       "(1560, 12)"
      ]
     },
     "execution_count": 264,
     "metadata": {},
     "output_type": "execute_result"
    }
   ],
   "source": [
    "rt_movies.shape"
   ]
  },
  {
   "cell_type": "markdown",
   "metadata": {},
   "source": [
    "### Data Merging"
   ]
  },
  {
   "cell_type": "code",
   "execution_count": 4,
   "metadata": {
    "scrolled": false
   },
   "outputs": [
    {
     "data": {
      "text/html": [
       "<div>\n",
       "<style scoped>\n",
       "    .dataframe tbody tr th:only-of-type {\n",
       "        vertical-align: middle;\n",
       "    }\n",
       "\n",
       "    .dataframe tbody tr th {\n",
       "        vertical-align: top;\n",
       "    }\n",
       "\n",
       "    .dataframe thead th {\n",
       "        text-align: right;\n",
       "    }\n",
       "</style>\n",
       "<table border=\"1\" class=\"dataframe\">\n",
       "  <thead>\n",
       "    <tr style=\"text-align: right;\">\n",
       "      <th></th>\n",
       "      <th>tconst</th>\n",
       "      <th>primary_title</th>\n",
       "      <th>original_title</th>\n",
       "      <th>start_year</th>\n",
       "      <th>runtime_minutes</th>\n",
       "      <th>genres</th>\n",
       "      <th>averagerating</th>\n",
       "      <th>numvotes</th>\n",
       "    </tr>\n",
       "  </thead>\n",
       "  <tbody>\n",
       "    <tr>\n",
       "      <th>0</th>\n",
       "      <td>tt0063540</td>\n",
       "      <td>Sunghursh</td>\n",
       "      <td>Sunghursh</td>\n",
       "      <td>2013</td>\n",
       "      <td>175.0</td>\n",
       "      <td>Action,Crime,Drama</td>\n",
       "      <td>7.0</td>\n",
       "      <td>77</td>\n",
       "    </tr>\n",
       "    <tr>\n",
       "      <th>1</th>\n",
       "      <td>tt0066787</td>\n",
       "      <td>One Day Before the Rainy Season</td>\n",
       "      <td>Ashad Ka Ek Din</td>\n",
       "      <td>2019</td>\n",
       "      <td>114.0</td>\n",
       "      <td>Biography,Drama</td>\n",
       "      <td>7.2</td>\n",
       "      <td>43</td>\n",
       "    </tr>\n",
       "    <tr>\n",
       "      <th>2</th>\n",
       "      <td>tt0069049</td>\n",
       "      <td>The Other Side of the Wind</td>\n",
       "      <td>The Other Side of the Wind</td>\n",
       "      <td>2018</td>\n",
       "      <td>122.0</td>\n",
       "      <td>Drama</td>\n",
       "      <td>6.9</td>\n",
       "      <td>4517</td>\n",
       "    </tr>\n",
       "    <tr>\n",
       "      <th>3</th>\n",
       "      <td>tt0069204</td>\n",
       "      <td>Sabse Bada Sukh</td>\n",
       "      <td>Sabse Bada Sukh</td>\n",
       "      <td>2018</td>\n",
       "      <td>NaN</td>\n",
       "      <td>Comedy,Drama</td>\n",
       "      <td>6.1</td>\n",
       "      <td>13</td>\n",
       "    </tr>\n",
       "    <tr>\n",
       "      <th>4</th>\n",
       "      <td>tt0100275</td>\n",
       "      <td>The Wandering Soap Opera</td>\n",
       "      <td>La Telenovela Errante</td>\n",
       "      <td>2017</td>\n",
       "      <td>80.0</td>\n",
       "      <td>Comedy,Drama,Fantasy</td>\n",
       "      <td>6.5</td>\n",
       "      <td>119</td>\n",
       "    </tr>\n",
       "  </tbody>\n",
       "</table>\n",
       "</div>"
      ],
      "text/plain": [
       "      tconst                    primary_title              original_title  \\\n",
       "0  tt0063540                        Sunghursh                   Sunghursh   \n",
       "1  tt0066787  One Day Before the Rainy Season             Ashad Ka Ek Din   \n",
       "2  tt0069049       The Other Side of the Wind  The Other Side of the Wind   \n",
       "3  tt0069204                  Sabse Bada Sukh             Sabse Bada Sukh   \n",
       "4  tt0100275         The Wandering Soap Opera       La Telenovela Errante   \n",
       "\n",
       "   start_year  runtime_minutes                genres  averagerating  numvotes  \n",
       "0        2013            175.0    Action,Crime,Drama            7.0        77  \n",
       "1        2019            114.0       Biography,Drama            7.2        43  \n",
       "2        2018            122.0                 Drama            6.9      4517  \n",
       "3        2018              NaN          Comedy,Drama            6.1        13  \n",
       "4        2017             80.0  Comedy,Drama,Fantasy            6.5       119  "
      ]
     },
     "execution_count": 4,
     "metadata": {},
     "output_type": "execute_result"
    }
   ],
   "source": [
    "#merge movie titles and ratings based on their common column 'tconst'\n",
    "imdb_title_ratings = pd.merge(imdb_title, imdb_ratings, left_on='tconst', right_on='tconst')\n",
    "imdb_title_ratings.head()"
   ]
  },
  {
   "cell_type": "markdown",
   "metadata": {},
   "source": [
    "### Data Cleaning"
   ]
  },
  {
   "cell_type": "markdown",
   "metadata": {},
   "source": [
    "1. Clean up IMDB Title and Ratings Dataframes"
   ]
  },
  {
   "cell_type": "code",
   "execution_count": 5,
   "metadata": {},
   "outputs": [],
   "source": [
    "# remove any rows with NULL values in the Genre column for the IMDB titles/ratings dataframe\n",
    "imdb_title_ratings_drop = imdb_title_ratings.dropna(subset=['genres'])"
   ]
  },
  {
   "cell_type": "code",
   "execution_count": 6,
   "metadata": {},
   "outputs": [],
   "source": [
    "#Create a generalized list of popular genres to group movies into based on their 'genre' column\n",
    "genres = ['Action', 'Comedy', 'Horror', 'Western', 'Documentary', 'Mystery', 'Family', 'Fantasy', 'Drama', 'Thriller', 'Romance', 'Sci-Fi', 'Biography']"
   ]
  },
  {
   "cell_type": "markdown",
   "metadata": {},
   "source": [
    "2. Clear up Rotton Tomatoes Dataframe"
   ]
  },
  {
   "cell_type": "code",
   "execution_count": 192,
   "metadata": {},
   "outputs": [],
   "source": [
    "#Drop rows with NULL values in the rating column as well as any rows with Ratings that are unintelligable\n",
    "rt_reviews_dropna = rt_reviews.dropna(subset=['rating'])\n",
    "rt_reviews_drops = rt_reviews_dropna[(rt_reviews_dropna['rating'] != 'T') & \\\n",
    "                                  (rt_reviews_dropna['rating'] != 'N') & \\\n",
    "                                  (rt_reviews_dropna['rating'] != 'R') & \\\n",
    "                                  (rt_reviews_dropna['rating'] != '1-5') &\\\n",
    "                                  (rt_reviews_dropna['rating'] != '3 1/2') ]"
   ]
  },
  {
   "cell_type": "code",
   "execution_count": 154,
   "metadata": {},
   "outputs": [],
   "source": [
    "#dictionary to map for converting ratings\n",
    "grades = {'A+':9.9, 'A':9.5, 'A-':9.0, 'B+':8.9, 'B':8.5, 'B-':8.0, 'C+':7.9, 'C':7.5, 'C-':7.0, 'D+':6.9, 'D':6.5,'D-':6.0, 'F+':5.9, 'F':5.5, 'F-':5.0}"
   ]
  },
  {
   "cell_type": "markdown",
   "metadata": {},
   "source": [
    "3. Clean up IMDB Names (potentially use????)"
   ]
  },
  {
   "cell_type": "code",
   "execution_count": 7,
   "metadata": {},
   "outputs": [],
   "source": [
    "#remove any rows with NULL professions or titles in the IMDB Names dataframe\n",
    "imdb_names_dropna = imdb_names.dropna(subset=['primary_profession', 'known_for_titles'])"
   ]
  },
  {
   "cell_type": "markdown",
   "metadata": {},
   "source": [
    "### Data Engineering"
   ]
  },
  {
   "cell_type": "markdown",
   "metadata": {},
   "source": [
    "1. Convert Rotton Tomatoes critics ratings into floats so we can take the average. Map any values necessary"
   ]
  },
  {
   "cell_type": "code",
   "execution_count": 237,
   "metadata": {},
   "outputs": [],
   "source": [
    "#converts ratings to percents if rating contains '/'\n",
    "def conv_rating(rating):\n",
    "    if '/' in rating:\n",
    "        r = rating.split('/')\n",
    "        return float(r[0])/float(r[1])*10\n",
    "    elif rating in grades:\n",
    "        return grades[rating]\n",
    "    else:\n",
    "        return float(rating)"
   ]
  },
  {
   "cell_type": "code",
   "execution_count": 238,
   "metadata": {
    "collapsed": true
   },
   "outputs": [
    {
     "name": "stderr",
     "output_type": "stream",
     "text": [
      "<ipython-input-238-6f55f182f286>:1: SettingWithCopyWarning: \n",
      "A value is trying to be set on a copy of a slice from a DataFrame.\n",
      "Try using .loc[row_indexer,col_indexer] = value instead\n",
      "\n",
      "See the caveats in the documentation: https://pandas.pydata.org/pandas-docs/stable/user_guide/indexing.html#returning-a-view-versus-a-copy\n",
      "  rt_reviews_drops['conv_ratings'] = rt_reviews_drops['rating'].map(lambda x: conv_rating(x))\n"
     ]
    },
    {
     "data": {
      "text/html": [
       "<div>\n",
       "<style scoped>\n",
       "    .dataframe tbody tr th:only-of-type {\n",
       "        vertical-align: middle;\n",
       "    }\n",
       "\n",
       "    .dataframe tbody tr th {\n",
       "        vertical-align: top;\n",
       "    }\n",
       "\n",
       "    .dataframe thead th {\n",
       "        text-align: right;\n",
       "    }\n",
       "</style>\n",
       "<table border=\"1\" class=\"dataframe\">\n",
       "  <thead>\n",
       "    <tr style=\"text-align: right;\">\n",
       "      <th></th>\n",
       "      <th>id</th>\n",
       "      <th>review</th>\n",
       "      <th>rating</th>\n",
       "      <th>fresh</th>\n",
       "      <th>critic</th>\n",
       "      <th>top_critic</th>\n",
       "      <th>publisher</th>\n",
       "      <th>date</th>\n",
       "      <th>conv_ratings</th>\n",
       "    </tr>\n",
       "  </thead>\n",
       "  <tbody>\n",
       "    <tr>\n",
       "      <th>0</th>\n",
       "      <td>3</td>\n",
       "      <td>A distinctly gallows take on contemporary fina...</td>\n",
       "      <td>3/5</td>\n",
       "      <td>fresh</td>\n",
       "      <td>PJ Nabarro</td>\n",
       "      <td>0</td>\n",
       "      <td>Patrick Nabarro</td>\n",
       "      <td>November 10, 2018</td>\n",
       "      <td>6.0</td>\n",
       "    </tr>\n",
       "    <tr>\n",
       "      <th>6</th>\n",
       "      <td>3</td>\n",
       "      <td>Quickly grows repetitive and tiresome, meander...</td>\n",
       "      <td>C</td>\n",
       "      <td>rotten</td>\n",
       "      <td>Eric D. Snider</td>\n",
       "      <td>0</td>\n",
       "      <td>EricDSnider.com</td>\n",
       "      <td>July 17, 2013</td>\n",
       "      <td>7.5</td>\n",
       "    </tr>\n",
       "    <tr>\n",
       "      <th>7</th>\n",
       "      <td>3</td>\n",
       "      <td>Cronenberg is not a director to be daunted by ...</td>\n",
       "      <td>2/5</td>\n",
       "      <td>rotten</td>\n",
       "      <td>Matt Kelemen</td>\n",
       "      <td>0</td>\n",
       "      <td>Las Vegas CityLife</td>\n",
       "      <td>April 21, 2013</td>\n",
       "      <td>4.0</td>\n",
       "    </tr>\n",
       "    <tr>\n",
       "      <th>11</th>\n",
       "      <td>3</td>\n",
       "      <td>While not one of Cronenberg's stronger films, ...</td>\n",
       "      <td>B-</td>\n",
       "      <td>fresh</td>\n",
       "      <td>Emanuel Levy</td>\n",
       "      <td>0</td>\n",
       "      <td>EmanuelLevy.Com</td>\n",
       "      <td>February 3, 2013</td>\n",
       "      <td>8.0</td>\n",
       "    </tr>\n",
       "    <tr>\n",
       "      <th>12</th>\n",
       "      <td>3</td>\n",
       "      <td>Robert Pattinson works mighty hard to make Cos...</td>\n",
       "      <td>2/4</td>\n",
       "      <td>rotten</td>\n",
       "      <td>Christian Toto</td>\n",
       "      <td>0</td>\n",
       "      <td>Big Hollywood</td>\n",
       "      <td>January 15, 2013</td>\n",
       "      <td>5.0</td>\n",
       "    </tr>\n",
       "  </tbody>\n",
       "</table>\n",
       "</div>"
      ],
      "text/plain": [
       "    id                                             review rating   fresh  \\\n",
       "0    3  A distinctly gallows take on contemporary fina...    3/5   fresh   \n",
       "6    3  Quickly grows repetitive and tiresome, meander...      C  rotten   \n",
       "7    3  Cronenberg is not a director to be daunted by ...    2/5  rotten   \n",
       "11   3  While not one of Cronenberg's stronger films, ...     B-   fresh   \n",
       "12   3  Robert Pattinson works mighty hard to make Cos...    2/4  rotten   \n",
       "\n",
       "            critic  top_critic           publisher               date  \\\n",
       "0       PJ Nabarro           0     Patrick Nabarro  November 10, 2018   \n",
       "6   Eric D. Snider           0     EricDSnider.com      July 17, 2013   \n",
       "7     Matt Kelemen           0  Las Vegas CityLife     April 21, 2013   \n",
       "11    Emanuel Levy           0     EmanuelLevy.Com   February 3, 2013   \n",
       "12  Christian Toto           0       Big Hollywood   January 15, 2013   \n",
       "\n",
       "    conv_ratings  \n",
       "0            6.0  \n",
       "6            7.5  \n",
       "7            4.0  \n",
       "11           8.0  \n",
       "12           5.0  "
      ]
     },
     "execution_count": 238,
     "metadata": {},
     "output_type": "execute_result"
    }
   ],
   "source": [
    "#pass each rating into conv_rating method\n",
    "rt_reviews_drops['conv_ratings'] = rt_reviews_drops['rating'].map(lambda x: conv_rating(x))\n",
    "rt_reviews_drops.head()"
   ]
  },
  {
   "cell_type": "code",
   "execution_count": 246,
   "metadata": {},
   "outputs": [],
   "source": [
    "#Combine rows with matching ID column and take average of the ratings\n",
    "rt_reviews_comb = rt_reviews_drops.groupby(['id'])['conv_ratings'].apply(lambda x: x.mean()).reset_index()"
   ]
  },
  {
   "cell_type": "code",
   "execution_count": 243,
   "metadata": {},
   "outputs": [],
   "source": [
    "#merge Rotton Tomato movie Dataframe with the Ratings Dataframe\n",
    "rt_movie_rev = pd.merge(rt_movies, rt_reviews_comb, left_on='id', right_on='id')"
   ]
  },
  {
   "cell_type": "code",
   "execution_count": 276,
   "metadata": {
    "scrolled": true
   },
   "outputs": [],
   "source": [
    "#Create a list of the top 10 directors for visualization\n",
    "top_directors = rt_movie_rev['director'].value_counts().index[:10].values"
   ]
  },
  {
   "cell_type": "code",
   "execution_count": 248,
   "metadata": {},
   "outputs": [],
   "source": [
    "#Take only the ratings with indexes that have a director in the top 10\n",
    "top_direct_ratings = rt_movie_rev.loc[rt_movie_rev['director'].isin(top_directors)]"
   ]
  },
  {
   "cell_type": "code",
   "execution_count": 249,
   "metadata": {
    "scrolled": true
   },
   "outputs": [],
   "source": [
    "#Group by again so we can take the average rating of all the directors movies\n",
    "final_direct_ratings = top_direct_ratings.groupby(['director'])['conv_ratings'].apply(lambda x: x.mean()).reset_index()"
   ]
  },
  {
   "cell_type": "code",
   "execution_count": null,
   "metadata": {},
   "outputs": [],
   "source": [
    "#What variabels am I dropping or creating? why?"
   ]
  },
  {
   "cell_type": "markdown",
   "metadata": {},
   "source": [
    "2. Use the rating column and the conv_ratings to see the distribution of movie ratings and how well it was perceived by critics"
   ]
  },
  {
   "cell_type": "code",
   "execution_count": 328,
   "metadata": {
    "scrolled": true
   },
   "outputs": [
    {
     "data": {
      "text/plain": [
       "G         41\n",
       "NR       242\n",
       "PG       193\n",
       "PG-13    206\n",
       "R        433\n",
       "Name: rating, dtype: int64"
      ]
     },
     "execution_count": 328,
     "metadata": {},
     "output_type": "execute_result"
    }
   ],
   "source": [
    "#use rt_movie_rev to also compare movie ratings to movie review ratings\n",
    "mov_rating = rt_movie_rev['rating'].value_counts().sort_index()\n",
    "mov_rating"
   ]
  },
  {
   "cell_type": "code",
   "execution_count": 273,
   "metadata": {
    "collapsed": true
   },
   "outputs": [
    {
     "data": {
      "text/html": [
       "<div>\n",
       "<style scoped>\n",
       "    .dataframe tbody tr th:only-of-type {\n",
       "        vertical-align: middle;\n",
       "    }\n",
       "\n",
       "    .dataframe tbody tr th {\n",
       "        vertical-align: top;\n",
       "    }\n",
       "\n",
       "    .dataframe thead th {\n",
       "        text-align: right;\n",
       "    }\n",
       "</style>\n",
       "<table border=\"1\" class=\"dataframe\">\n",
       "  <thead>\n",
       "    <tr style=\"text-align: right;\">\n",
       "      <th></th>\n",
       "      <th>id</th>\n",
       "      <th>synopsis</th>\n",
       "      <th>rating</th>\n",
       "      <th>genre</th>\n",
       "      <th>director</th>\n",
       "      <th>writer</th>\n",
       "      <th>theater_date</th>\n",
       "      <th>dvd_date</th>\n",
       "      <th>currency</th>\n",
       "      <th>box_office</th>\n",
       "      <th>runtime</th>\n",
       "      <th>studio</th>\n",
       "      <th>conv_ratings</th>\n",
       "    </tr>\n",
       "  </thead>\n",
       "  <tbody>\n",
       "    <tr>\n",
       "      <th>0</th>\n",
       "      <td>3</td>\n",
       "      <td>New York City, not-too-distant-future: Eric Pa...</td>\n",
       "      <td>R</td>\n",
       "      <td>Drama|Science Fiction and Fantasy</td>\n",
       "      <td>David Cronenberg</td>\n",
       "      <td>David Cronenberg|Don DeLillo</td>\n",
       "      <td>Aug 17, 2012</td>\n",
       "      <td>Jan 1, 2013</td>\n",
       "      <td>$</td>\n",
       "      <td>600,000</td>\n",
       "      <td>108 minutes</td>\n",
       "      <td>Entertainment One</td>\n",
       "      <td>6.398673</td>\n",
       "    </tr>\n",
       "    <tr>\n",
       "      <th>1</th>\n",
       "      <td>5</td>\n",
       "      <td>Illeana Douglas delivers a superb performance ...</td>\n",
       "      <td>R</td>\n",
       "      <td>Drama|Musical and Performing Arts</td>\n",
       "      <td>Allison Anders</td>\n",
       "      <td>Allison Anders</td>\n",
       "      <td>Sep 13, 1996</td>\n",
       "      <td>Apr 18, 2000</td>\n",
       "      <td>NaN</td>\n",
       "      <td>NaN</td>\n",
       "      <td>116 minutes</td>\n",
       "      <td>NaN</td>\n",
       "      <td>6.945000</td>\n",
       "    </tr>\n",
       "    <tr>\n",
       "      <th>2</th>\n",
       "      <td>6</td>\n",
       "      <td>Michael Douglas runs afoul of a treacherous su...</td>\n",
       "      <td>R</td>\n",
       "      <td>Drama|Mystery and Suspense</td>\n",
       "      <td>Barry Levinson</td>\n",
       "      <td>Paul Attanasio|Michael Crichton</td>\n",
       "      <td>Dec 9, 1994</td>\n",
       "      <td>Aug 27, 1997</td>\n",
       "      <td>NaN</td>\n",
       "      <td>NaN</td>\n",
       "      <td>128 minutes</td>\n",
       "      <td>NaN</td>\n",
       "      <td>5.995122</td>\n",
       "    </tr>\n",
       "    <tr>\n",
       "      <th>3</th>\n",
       "      <td>8</td>\n",
       "      <td>The year is 1942. As the Allies unite overseas...</td>\n",
       "      <td>PG</td>\n",
       "      <td>Drama|Kids and Family</td>\n",
       "      <td>Jay Russell</td>\n",
       "      <td>Gail Gilchriest</td>\n",
       "      <td>Mar 3, 2000</td>\n",
       "      <td>Jul 11, 2000</td>\n",
       "      <td>NaN</td>\n",
       "      <td>NaN</td>\n",
       "      <td>95 minutes</td>\n",
       "      <td>Warner Bros. Pictures</td>\n",
       "      <td>7.142500</td>\n",
       "    </tr>\n",
       "    <tr>\n",
       "      <th>4</th>\n",
       "      <td>10</td>\n",
       "      <td>Some cast and crew from NBC's highly acclaimed...</td>\n",
       "      <td>PG-13</td>\n",
       "      <td>Comedy</td>\n",
       "      <td>Jake Kasdan</td>\n",
       "      <td>Mike White</td>\n",
       "      <td>Jan 11, 2002</td>\n",
       "      <td>Jun 18, 2002</td>\n",
       "      <td>$</td>\n",
       "      <td>41,032,915</td>\n",
       "      <td>82 minutes</td>\n",
       "      <td>Paramount Pictures</td>\n",
       "      <td>5.941803</td>\n",
       "    </tr>\n",
       "  </tbody>\n",
       "</table>\n",
       "</div>"
      ],
      "text/plain": [
       "   id                                           synopsis rating  \\\n",
       "0   3  New York City, not-too-distant-future: Eric Pa...      R   \n",
       "1   5  Illeana Douglas delivers a superb performance ...      R   \n",
       "2   6  Michael Douglas runs afoul of a treacherous su...      R   \n",
       "3   8  The year is 1942. As the Allies unite overseas...     PG   \n",
       "4  10  Some cast and crew from NBC's highly acclaimed...  PG-13   \n",
       "\n",
       "                               genre          director  \\\n",
       "0  Drama|Science Fiction and Fantasy  David Cronenberg   \n",
       "1  Drama|Musical and Performing Arts    Allison Anders   \n",
       "2         Drama|Mystery and Suspense    Barry Levinson   \n",
       "3              Drama|Kids and Family       Jay Russell   \n",
       "4                             Comedy       Jake Kasdan   \n",
       "\n",
       "                            writer  theater_date      dvd_date currency  \\\n",
       "0     David Cronenberg|Don DeLillo  Aug 17, 2012   Jan 1, 2013        $   \n",
       "1                   Allison Anders  Sep 13, 1996  Apr 18, 2000      NaN   \n",
       "2  Paul Attanasio|Michael Crichton   Dec 9, 1994  Aug 27, 1997      NaN   \n",
       "3                  Gail Gilchriest   Mar 3, 2000  Jul 11, 2000      NaN   \n",
       "4                       Mike White  Jan 11, 2002  Jun 18, 2002        $   \n",
       "\n",
       "   box_office      runtime                 studio  conv_ratings  \n",
       "0     600,000  108 minutes      Entertainment One      6.398673  \n",
       "1         NaN  116 minutes                    NaN      6.945000  \n",
       "2         NaN  128 minutes                    NaN      5.995122  \n",
       "3         NaN   95 minutes  Warner Bros. Pictures      7.142500  \n",
       "4  41,032,915   82 minutes     Paramount Pictures      5.941803  "
      ]
     },
     "execution_count": 273,
     "metadata": {},
     "output_type": "execute_result"
    }
   ],
   "source": [
    "rt_movie_rev.head()"
   ]
  },
  {
   "cell_type": "code",
   "execution_count": 331,
   "metadata": {},
   "outputs": [
    {
     "data": {
      "text/plain": [
       "array([ 41, 242, 193, 206, 433])"
      ]
     },
     "execution_count": 331,
     "metadata": {},
     "output_type": "execute_result"
    }
   ],
   "source": [
    "#Group movies by ratings into individual dataframes\n",
    "ratings = rt_movie_rev['rating'].value_counts().sort_index().index\n",
    "num_movies = rt_movie_rev['rating'].value_counts().sort_index().values"
   ]
  },
  {
   "cell_type": "code",
   "execution_count": 325,
   "metadata": {
    "scrolled": true
   },
   "outputs": [
    {
     "data": {
      "text/html": [
       "<div>\n",
       "<style scoped>\n",
       "    .dataframe tbody tr th:only-of-type {\n",
       "        vertical-align: middle;\n",
       "    }\n",
       "\n",
       "    .dataframe tbody tr th {\n",
       "        vertical-align: top;\n",
       "    }\n",
       "\n",
       "    .dataframe thead th {\n",
       "        text-align: right;\n",
       "    }\n",
       "</style>\n",
       "<table border=\"1\" class=\"dataframe\">\n",
       "  <thead>\n",
       "    <tr style=\"text-align: right;\">\n",
       "      <th></th>\n",
       "      <th>rating</th>\n",
       "      <th>conv_ratings</th>\n",
       "    </tr>\n",
       "  </thead>\n",
       "  <tbody>\n",
       "    <tr>\n",
       "      <th>0</th>\n",
       "      <td>G</td>\n",
       "      <td>6.754107</td>\n",
       "    </tr>\n",
       "    <tr>\n",
       "      <th>1</th>\n",
       "      <td>NR</td>\n",
       "      <td>6.890182</td>\n",
       "    </tr>\n",
       "    <tr>\n",
       "      <th>2</th>\n",
       "      <td>PG</td>\n",
       "      <td>6.026328</td>\n",
       "    </tr>\n",
       "    <tr>\n",
       "      <th>3</th>\n",
       "      <td>PG-13</td>\n",
       "      <td>5.821686</td>\n",
       "    </tr>\n",
       "    <tr>\n",
       "      <th>4</th>\n",
       "      <td>R</td>\n",
       "      <td>6.152171</td>\n",
       "    </tr>\n",
       "  </tbody>\n",
       "</table>\n",
       "</div>"
      ],
      "text/plain": [
       "  rating  conv_ratings\n",
       "0      G      6.754107\n",
       "1     NR      6.890182\n",
       "2     PG      6.026328\n",
       "3  PG-13      5.821686\n",
       "4      R      6.152171"
      ]
     },
     "execution_count": 325,
     "metadata": {},
     "output_type": "execute_result"
    }
   ],
   "source": [
    "avg_rating_by_rated = rt_movie_rev.groupby(['rating'])['conv_ratings'].apply(lambda x: x.mean()).reset_index()\n",
    "avg_rating_by_rated"
   ]
  },
  {
   "cell_type": "code",
   "execution_count": 306,
   "metadata": {},
   "outputs": [],
   "source": [
    "rated_list = avg_rating_by_rated['rating'].values\n",
    "avg_ratings = avg_rating_by_rated['conv_ratings'].values"
   ]
  },
  {
   "cell_type": "markdown",
   "metadata": {},
   "source": [
    "3. Find the average rating for movies in IMDB Dataframe. Combine Genre data to make comparable and easy to visualize"
   ]
  },
  {
   "cell_type": "code",
   "execution_count": 346,
   "metadata": {},
   "outputs": [],
   "source": [
    "#iterate through each title in title list to find average rating. add avg rating to list on actor/director name\n",
    "def find_rating(title_list):\n",
    "    avg_rating = 0\n",
    "    len_list = len(title_list)\n",
    "    for title in title_list:\n",
    "        row = imdb_ratings.loc[imdb_ratings['tconst'] == title]\n",
    "        if len(row['averagerating'].values) > 0:\n",
    "            avg_rating += row['averagerating'].values[0]\n",
    "        else:\n",
    "            len_list -= 1\n",
    "    return avg_rating"
   ]
  },
  {
   "cell_type": "code",
   "execution_count": 347,
   "metadata": {},
   "outputs": [],
   "source": [
    "#helper method to generalize genre\n",
    "def find_genre(genre_list):\n",
    "    for gen in genre_list:\n",
    "        if gen in genres:\n",
    "            return gen"
   ]
  },
  {
   "cell_type": "code",
   "execution_count": 353,
   "metadata": {},
   "outputs": [],
   "source": [
    "#assigns one genre to movie to make easier to group and organize. Make copy beforehad to avoid warnings\n",
    "imdb_title_ratings_map = imdb_title_ratings_drop.copy()\n",
    "imdb_title_ratings_map['overall_genre'] = imdb_title_ratings_map['genres'].map(lambda x: find_genre(x.split(',')))"
   ]
  },
  {
   "cell_type": "code",
   "execution_count": 354,
   "metadata": {},
   "outputs": [],
   "source": [
    "#groups genres into similar categories to make easier to visualize \n",
    "ratings_action_scifi = imdb_title_ratings_map[(imdb_title_ratings_map['overall_genre'] == 'Action') |(imdb_title_ratings_map['overall_genre'] == 'Sci_Fi') | (imdb_title_ratings_map['overall_genre'] == 'Fantasy')]\n",
    "ratings_comedy = imdb_title_ratings_map[imdb_title_ratings_map['overall_genre'] == 'Comedy']\n",
    "ratings_horror = imdb_title_ratings_map[(imdb_title_ratings_map['overall_genre'] == 'Thriller') | (imdb_title_ratings_map['overall_genre'] == 'Horror')]\n",
    "ratings_drama = imdb_title_ratings_map[(imdb_title_ratings_map['overall_genre'] == 'Drama') | (imdb_title_ratings_map['overall_genre'] == 'Romance')]\n",
    "ratings_nonfiction = imdb_title_ratings_map[(imdb_title_ratings_map['overall_genre'] == 'Biography') | (imdb_title_ratings_map['overall_genre'] == 'Documentary')]\n",
    "ratings_other = imdb_title_ratings_map[(imdb_title_ratings_map['overall_genre'] == 'Family') | (imdb_title_ratings_map['overall_genre'] == 'Mystery') | \\\n",
    "                                          (imdb_title_ratings_map['overall_genre'] == 'Western') | (imdb_title_ratings_map['overall_genre'] == 'Other')]\n"
   ]
  },
  {
   "cell_type": "code",
   "execution_count": null,
   "metadata": {},
   "outputs": [],
   "source": [
    "#How did you analyze or model the data? How did you iterate on your initial approach to make it better? Why are these choices appropriate given the data and the business problem?"
   ]
  },
  {
   "cell_type": "markdown",
   "metadata": {},
   "source": [
    "# Visualizations\n",
    "***"
   ]
  },
  {
   "cell_type": "code",
   "execution_count": 360,
   "metadata": {},
   "outputs": [
    {
     "data": {
      "image/png": "[encoded data removed]",
      "text/plain": [
       "<Figure size 1080x360 with 1 Axes>"
      ]
     },
     "metadata": {},
     "output_type": "display_data"
    }
   ],
   "source": [
    "# Visualization for mapping a distribution of movie ratings by genre\n",
    "fig, ax = plt.subplots(figsize=(15,5))\n",
    "bins = 80\n",
    "\n",
    "ax.hist(x=ratings_drama['averagerating'], label=\"Drama\",\n",
    "    bins=bins,\n",
    "    color=\"black\",\n",
    "    alpha=0.5)\n",
    "ax.hist(x=ratings_nonfiction['averagerating'], label=\"Non-Fiction\",\n",
    "    bins=bins,\n",
    "    color=\"teal\",\n",
    "    alpha=0.5)\n",
    "ax.hist(x=ratings_comedy['averagerating'], label=\"Comedy\",\n",
    "    bins=bins,\n",
    "    color=\"red\",\n",
    "    alpha=0.5)\n",
    "ax.hist(x=ratings_action_scifi['averagerating'], label=\"Action/Sci-Fi\",\n",
    "    bins=bins,\n",
    "    color=\"yellow\",\n",
    "    alpha=0.5)\n",
    "ax.hist(x=ratings_horror['averagerating'], label=\"Horror\",\n",
    "    bins=bins,\n",
    "    color=\"green\",\n",
    "    alpha=0.5)\n",
    "\n",
    "\n",
    "# Customize labels\n",
    "ax.set_title(\"Distributions of Movie Ratings by Genres\")\n",
    "ax.set_xlabel(\"Movie Ratings\")\n",
    "ax.set_ylabel(\"Number of Movies\")\n",
    "ax.legend();"
   ]
  },
  {
   "cell_type": "code",
   "execution_count": 38,
   "metadata": {
    "scrolled": true
   },
   "outputs": [
    {
     "name": "stdout",
     "output_type": "stream",
     "text": [
      "Average rating for Drama: 6.3470974044097135\n",
      "Average rating for Non-Fiction: 7.292722416048845\n",
      "Average rating for Comedy: 6.005628121398386\n",
      "Average rating for Action/Sci-FI: 5.806539581678581\n",
      "Average rating for Horror: 5.108700999231361\n"
     ]
    }
   ],
   "source": [
    "print('Average rating for Drama: {}'.format(ratings_drama['averagerating'].mean()))\n",
    "print('Average rating for Non-Fiction: {}'.format(ratings_nonfiction['averagerating'].mean()))\n",
    "print('Average rating for Comedy: {}'.format(ratings_comedy['averagerating'].mean()))\n",
    "print('Average rating for Action/Sci-FI: {}'.format(ratings_action_scifi['averagerating'].mean()))\n",
    "print('Average rating for Horror: {}'.format(ratings_horror['averagerating'].mean()))"
   ]
  },
  {
   "cell_type": "code",
   "execution_count": 341,
   "metadata": {},
   "outputs": [
    {
     "data": {
      "image/png": "[encoded data removed]",
      "text/plain": [
       "<Figure size 1080x360 with 2 Axes>"
      ]
     },
     "metadata": {
      "needs_background": "light"
     },
     "output_type": "display_data"
    }
   ],
   "source": [
    "fig, (ax,ax1) = plt.subplots(nrows=1, ncols=2, figsize=(15,5))\n",
    "\n",
    "bins = 80\n",
    "\n",
    "ax.bar(rated_list, avg_ratings, color='goldenrod')\n",
    "ax1.bar(ratings, num_movies, color='cadetblue')\n",
    "\n",
    "# Customize labels\n",
    "ax.set_title(\"Average Critic Review By Movie Rating\")\n",
    "ax.set_xlabel(\"Movie Ratings\")\n",
    "ax.set_ylabel(\"Avg Critic Review\")\n",
    "\n",
    "ax1.set_title(\"Number of Movies By Movie Rating\")\n",
    "ax1.set_xlabel(\"Movie Ratings\")\n",
    "ax1.set_ylabel(\"Number of Movies\");\n",
    "\n",
    "\n",
    "#Can do one graph # movies and then have the percent of that be high ratings\n"
   ]
  },
  {
   "cell_type": "code",
   "execution_count": null,
   "metadata": {},
   "outputs": [],
   "source": []
  },
  {
   "cell_type": "code",
   "execution_count": 343,
   "metadata": {},
   "outputs": [
    {
     "data": {
      "text/plain": [
       "''"
      ]
     },
     "execution_count": 343,
     "metadata": {},
     "output_type": "execute_result"
    },
    {
     "data": {
      "image/png": "[encoded data removed]",
      "text/plain": [
       "<Figure size 1080x360 with 1 Axes>"
      ]
     },
     "metadata": {
      "needs_background": "light"
     },
     "output_type": "display_data"
    }
   ],
   "source": [
    "fig, ax = plt.subplots(figsize=(15,5))\n",
    "\n",
    "ax.bar(top_directors, final_direct_ratings['conv_ratings'], color='darkseagreen')\n",
    "\n",
    "ax.set_title(\"Top 10 Movie Producers and Their Average Movie Rating\")\n",
    "ax.set_xlabel('Director')\n",
    "ax.set_ylabel('Avg Movie Rating')\n",
    ";"
   ]
  },
  {
   "cell_type": "code",
   "execution_count": 76,
   "metadata": {
    "collapsed": true
   },
   "outputs": [
    {
     "ename": "NameError",
     "evalue": "name 'ratings_drama' is not defined",
     "output_type": "error",
     "traceback": [
      "\u001b[0;31m---------------------------------------------------------------------------\u001b[0m",
      "\u001b[0;31mNameError\u001b[0m                                 Traceback (most recent call last)",
      "\u001b[0;32m<ipython-input-76-1a379fd62e42>\u001b[0m in \u001b[0;36m<module>\u001b[0;34m\u001b[0m\n\u001b[1;32m      1\u001b[0m \u001b[0mfig\u001b[0m\u001b[0;34m,\u001b[0m \u001b[0max\u001b[0m \u001b[0;34m=\u001b[0m \u001b[0mplt\u001b[0m\u001b[0;34m.\u001b[0m\u001b[0msubplots\u001b[0m\u001b[0;34m(\u001b[0m\u001b[0mfigsize\u001b[0m\u001b[0;34m=\u001b[0m\u001b[0;34m(\u001b[0m\u001b[0;36m15\u001b[0m\u001b[0;34m,\u001b[0m\u001b[0;36m5\u001b[0m\u001b[0;34m)\u001b[0m\u001b[0;34m)\u001b[0m\u001b[0;34m\u001b[0m\u001b[0;34m\u001b[0m\u001b[0m\n\u001b[1;32m      2\u001b[0m \u001b[0;34m\u001b[0m\u001b[0m\n\u001b[0;32m----> 3\u001b[0;31m \u001b[0mdrama_years\u001b[0m \u001b[0;34m=\u001b[0m \u001b[0mratings_drama\u001b[0m\u001b[0;34m[\u001b[0m\u001b[0;34m[\u001b[0m\u001b[0;34m'start_year'\u001b[0m\u001b[0;34m]\u001b[0m\u001b[0;34m]\u001b[0m\u001b[0;34m.\u001b[0m\u001b[0mgroupby\u001b[0m\u001b[0;34m(\u001b[0m\u001b[0;34m'start_year'\u001b[0m\u001b[0;34m)\u001b[0m\u001b[0;34m.\u001b[0m\u001b[0mcount\u001b[0m\u001b[0;34m(\u001b[0m\u001b[0;34m)\u001b[0m\u001b[0;34m.\u001b[0m\u001b[0mindex\u001b[0m\u001b[0;34m\u001b[0m\u001b[0;34m\u001b[0m\u001b[0m\n\u001b[0m\u001b[1;32m      4\u001b[0m \u001b[0mdrama_nums\u001b[0m \u001b[0;34m=\u001b[0m \u001b[0mratings_drama\u001b[0m\u001b[0;34m[\u001b[0m\u001b[0;34m'start_year'\u001b[0m\u001b[0;34m]\u001b[0m\u001b[0;34m.\u001b[0m\u001b[0mvalue_counts\u001b[0m\u001b[0;34m(\u001b[0m\u001b[0;34m)\u001b[0m\u001b[0;34m.\u001b[0m\u001b[0msort_index\u001b[0m\u001b[0;34m(\u001b[0m\u001b[0;34m)\u001b[0m\u001b[0;34m.\u001b[0m\u001b[0mvalues\u001b[0m\u001b[0;34m\u001b[0m\u001b[0;34m\u001b[0m\u001b[0m\n\u001b[1;32m      5\u001b[0m \u001b[0;34m\u001b[0m\u001b[0m\n",
      "\u001b[0;31mNameError\u001b[0m: name 'ratings_drama' is not defined"
     ]
    },
    {
     "data": {
      "image/png": "[encoded data removed]",
      "text/plain": [
       "<Figure size 1080x360 with 1 Axes>"
      ]
     },
     "metadata": {
      "needs_background": "light"
     },
     "output_type": "display_data"
    }
   ],
   "source": [
    "fig, ax = plt.subplots(figsize=(15,5))\n",
    "\n",
    "drama_years = ratings_drama[['start_year']].groupby('start_year').count().index\n",
    "drama_nums = ratings_drama['start_year'].value_counts().sort_index().values\n",
    "\n",
    "nonfiction_years = ratings_nonfiction[['start_year']].groupby('start_year').count().index\n",
    "nonfiction_nums = ratings_nonfiction['start_year'].value_counts().sort_index().values\n",
    "\n",
    "comedy_years = ratings_comedy[['start_year']].groupby('start_year').count().index\n",
    "comedy_nums = ratings_comedy['start_year'].value_counts().sort_index().values\n",
    "\n",
    "action_years = ratings_action_scifi[['start_year']].groupby('start_year').count().index\n",
    "action_nums = ratings_action_scifi['start_year'].value_counts().sort_index().values\n",
    "\n",
    "horror_years = ratings_horror[['start_year']].groupby('start_year').count().index\n",
    "horror_nums = ratings_horror['start_year'].value_counts().sort_index().values\n",
    "\n",
    "\n",
    "ax.plot(drama_years, drama_nums)\n",
    "ax.plot(nonfiction_years, nonfiction_nums)\n",
    "ax.plot(comedy_years, comedy_nums)\n",
    "ax.plot(action_years, action_nums)\n",
    "ax.plot(horror_years, horror_nums);\n",
    "\n",
    "\n",
    "\n",
    "# # Customize labels\n",
    "# ax.set_title(\"Distributions of Movie Ratings by Genres\")\n",
    "# ax.set_xlabel(\"Movie Ratings\")\n",
    "# ax.set_ylabel(\"Number of Movies\")\n",
    "# ax.legend();"
   ]
  },
  {
   "cell_type": "code",
   "execution_count": null,
   "metadata": {},
   "outputs": [],
   "source": []
  },
  {
   "cell_type": "markdown",
   "metadata": {},
   "source": [
    "# Conclusion\n",
    "***"
   ]
  },
  {
   "cell_type": "markdown",
   "metadata": {},
   "source": [
    "# Next Steps\n",
    "***"
   ]
  },
  {
   "cell_type": "code",
   "execution_count": 54,
   "metadata": {
    "collapsed": true
   },
   "outputs": [
    {
     "name": "stderr",
     "output_type": "stream",
     "text": [
      "<ipython-input-54-2f352ed3aba6>:4: SettingWithCopyWarning: \n",
      "A value is trying to be set on a copy of a slice from a DataFrame.\n",
      "Try using .loc[row_indexer,col_indexer] = value instead\n",
      "\n",
      "See the caveats in the documentation: https://pandas.pydata.org/pandas-docs/stable/user_guide/indexing.html#returning-a-view-versus-a-copy\n",
      "  imdb_directors['titles_list'] = imdb_directors['known_for_titles'].map(lambda x: x.split(','))\n",
      "<ipython-input-54-2f352ed3aba6>:5: SettingWithCopyWarning: \n",
      "A value is trying to be set on a copy of a slice from a DataFrame.\n",
      "Try using .loc[row_indexer,col_indexer] = value instead\n",
      "\n",
      "See the caveats in the documentation: https://pandas.pydata.org/pandas-docs/stable/user_guide/indexing.html#returning-a-view-versus-a-copy\n",
      "  imdb_actors['titles_list'] = imdb_actors['known_for_titles'].map(lambda x: x.split(','))\n",
      "<ipython-input-54-2f352ed3aba6>:6: SettingWithCopyWarning: \n",
      "A value is trying to be set on a copy of a slice from a DataFrame.\n",
      "Try using .loc[row_indexer,col_indexer] = value instead\n",
      "\n",
      "See the caveats in the documentation: https://pandas.pydata.org/pandas-docs/stable/user_guide/indexing.html#returning-a-view-versus-a-copy\n",
      "  imdb_actors['profession'] = 'Actor'\n",
      "<ipython-input-54-2f352ed3aba6>:7: SettingWithCopyWarning: \n",
      "A value is trying to be set on a copy of a slice from a DataFrame.\n",
      "Try using .loc[row_indexer,col_indexer] = value instead\n",
      "\n",
      "See the caveats in the documentation: https://pandas.pydata.org/pandas-docs/stable/user_guide/indexing.html#returning-a-view-versus-a-copy\n",
      "  imdb_directors['profession'] = 'Director'\n",
      "<ipython-input-54-2f352ed3aba6>:9: SettingWithCopyWarning: \n",
      "A value is trying to be set on a copy of a slice from a DataFrame.\n",
      "Try using .loc[row_indexer,col_indexer] = value instead\n",
      "\n",
      "See the caveats in the documentation: https://pandas.pydata.org/pandas-docs/stable/user_guide/indexing.html#returning-a-view-versus-a-copy\n",
      "  imdb_actors_two['titles_list'] = imdb_actors_two['known_for_titles'].map(lambda x: x.split(','))\n",
      "<ipython-input-54-2f352ed3aba6>:10: SettingWithCopyWarning: \n",
      "A value is trying to be set on a copy of a slice from a DataFrame.\n",
      "Try using .loc[row_indexer,col_indexer] = value instead\n",
      "\n",
      "See the caveats in the documentation: https://pandas.pydata.org/pandas-docs/stable/user_guide/indexing.html#returning-a-view-versus-a-copy\n",
      "  imdb_actors_two['profession'] = 'Actor'\n"
     ]
    },
    {
     "data": {
      "text/html": [
       "<div>\n",
       "<style scoped>\n",
       "    .dataframe tbody tr th:only-of-type {\n",
       "        vertical-align: middle;\n",
       "    }\n",
       "\n",
       "    .dataframe tbody tr th {\n",
       "        vertical-align: top;\n",
       "    }\n",
       "\n",
       "    .dataframe thead th {\n",
       "        text-align: right;\n",
       "    }\n",
       "</style>\n",
       "<table border=\"1\" class=\"dataframe\">\n",
       "  <thead>\n",
       "    <tr style=\"text-align: right;\">\n",
       "      <th></th>\n",
       "      <th>nconst</th>\n",
       "      <th>primary_name</th>\n",
       "      <th>birth_year</th>\n",
       "      <th>death_year</th>\n",
       "      <th>primary_profession</th>\n",
       "      <th>known_for_titles</th>\n",
       "      <th>titles_list</th>\n",
       "      <th>profession</th>\n",
       "    </tr>\n",
       "  </thead>\n",
       "  <tbody>\n",
       "    <tr>\n",
       "      <th>5</th>\n",
       "      <td>nm0062879</td>\n",
       "      <td>Ruel S. Bayani</td>\n",
       "      <td>NaN</td>\n",
       "      <td>NaN</td>\n",
       "      <td>director,production_manager,miscellaneous</td>\n",
       "      <td>tt2590280,tt0352080,tt0216559,tt2057445</td>\n",
       "      <td>[tt2590280, tt0352080, tt0216559, tt2057445]</td>\n",
       "      <td>Director</td>\n",
       "    </tr>\n",
       "    <tr>\n",
       "      <th>10</th>\n",
       "      <td>nm0064023</td>\n",
       "      <td>Bryan Beasley</td>\n",
       "      <td>NaN</td>\n",
       "      <td>NaN</td>\n",
       "      <td>director,producer,writer</td>\n",
       "      <td>tt3501180,tt1485100,tt1358897,tt1387162</td>\n",
       "      <td>[tt3501180, tt1485100, tt1358897, tt1387162]</td>\n",
       "      <td>Director</td>\n",
       "    </tr>\n",
       "    <tr>\n",
       "      <th>15</th>\n",
       "      <td>nm0066163</td>\n",
       "      <td>Arnaud Bedouët</td>\n",
       "      <td>NaN</td>\n",
       "      <td>NaN</td>\n",
       "      <td>actor,writer,director</td>\n",
       "      <td>tt1355327,tt1977735,tt0173525,tt1710520</td>\n",
       "      <td>[tt1355327, tt1977735, tt0173525, tt1710520]</td>\n",
       "      <td>Director</td>\n",
       "    </tr>\n",
       "    <tr>\n",
       "      <th>16</th>\n",
       "      <td>nm0066268</td>\n",
       "      <td>Steve Mitchell Beebe</td>\n",
       "      <td>NaN</td>\n",
       "      <td>NaN</td>\n",
       "      <td>editorial_department,director,editor</td>\n",
       "      <td>tt0827928,tt0119961,tt0408417,tt5521860</td>\n",
       "      <td>[tt0827928, tt0119961, tt0408417, tt5521860]</td>\n",
       "      <td>Director</td>\n",
       "    </tr>\n",
       "    <tr>\n",
       "      <th>21</th>\n",
       "      <td>nm0068170</td>\n",
       "      <td>Dylan Bell</td>\n",
       "      <td>NaN</td>\n",
       "      <td>NaN</td>\n",
       "      <td>director,actor,producer</td>\n",
       "      <td>tt4655766,tt3180116,tt8170168,tt4082762</td>\n",
       "      <td>[tt4655766, tt3180116, tt8170168, tt4082762]</td>\n",
       "      <td>Director</td>\n",
       "    </tr>\n",
       "  </tbody>\n",
       "</table>\n",
       "</div>"
      ],
      "text/plain": [
       "       nconst          primary_name  birth_year  death_year  \\\n",
       "5   nm0062879        Ruel S. Bayani         NaN         NaN   \n",
       "10  nm0064023         Bryan Beasley         NaN         NaN   \n",
       "15  nm0066163        Arnaud Bedouët         NaN         NaN   \n",
       "16  nm0066268  Steve Mitchell Beebe         NaN         NaN   \n",
       "21  nm0068170            Dylan Bell         NaN         NaN   \n",
       "\n",
       "                           primary_profession  \\\n",
       "5   director,production_manager,miscellaneous   \n",
       "10                   director,producer,writer   \n",
       "15                      actor,writer,director   \n",
       "16       editorial_department,director,editor   \n",
       "21                    director,actor,producer   \n",
       "\n",
       "                           known_for_titles  \\\n",
       "5   tt2590280,tt0352080,tt0216559,tt2057445   \n",
       "10  tt3501180,tt1485100,tt1358897,tt1387162   \n",
       "15  tt1355327,tt1977735,tt0173525,tt1710520   \n",
       "16  tt0827928,tt0119961,tt0408417,tt5521860   \n",
       "21  tt4655766,tt3180116,tt8170168,tt4082762   \n",
       "\n",
       "                                     titles_list profession  \n",
       "5   [tt2590280, tt0352080, tt0216559, tt2057445]   Director  \n",
       "10  [tt3501180, tt1485100, tt1358897, tt1387162]   Director  \n",
       "15  [tt1355327, tt1977735, tt0173525, tt1710520]   Director  \n",
       "16  [tt0827928, tt0119961, tt0408417, tt5521860]   Director  \n",
       "21  [tt4655766, tt3180116, tt8170168, tt4082762]   Director  "
      ]
     },
     "execution_count": 54,
     "metadata": {},
     "output_type": "execute_result"
    }
   ],
   "source": [
    "#for the actors and directors dataframes, split the known_for_titles columns into a list of titles\n",
    "#this will make it easier to associate people with movies to get the ratings\n",
    "\n",
    "imdb_directors['titles_list'] = imdb_directors['known_for_titles'].map(lambda x: x.split(','))\n",
    "imdb_actors['titles_list'] = imdb_actors['known_for_titles'].map(lambda x: x.split(','))\n",
    "imdb_actors['profession'] = 'Actor'\n",
    "imdb_directors['profession'] = 'Director'\n",
    "\n",
    "imdb_actors_two['titles_list'] = imdb_actors_two['known_for_titles'].map(lambda x: x.split(','))\n",
    "imdb_actors_two['profession'] = 'Actor'\n",
    "\n",
    "imdb_directors.head()\n"
   ]
  },
  {
   "cell_type": "code",
   "execution_count": 53,
   "metadata": {},
   "outputs": [],
   "source": [
    "imdb_actors_two = imdb_names_dropna[imdb_names_dropna['primary_profession'] == 'actor']"
   ]
  },
  {
   "cell_type": "code",
   "execution_count": 8,
   "metadata": {
    "collapsed": true
   },
   "outputs": [
    {
     "data": {
      "text/html": [
       "<div>\n",
       "<style scoped>\n",
       "    .dataframe tbody tr th:only-of-type {\n",
       "        vertical-align: middle;\n",
       "    }\n",
       "\n",
       "    .dataframe tbody tr th {\n",
       "        vertical-align: top;\n",
       "    }\n",
       "\n",
       "    .dataframe thead th {\n",
       "        text-align: right;\n",
       "    }\n",
       "</style>\n",
       "<table border=\"1\" class=\"dataframe\">\n",
       "  <thead>\n",
       "    <tr style=\"text-align: right;\">\n",
       "      <th></th>\n",
       "      <th>nconst</th>\n",
       "      <th>primary_name</th>\n",
       "      <th>birth_year</th>\n",
       "      <th>death_year</th>\n",
       "      <th>primary_profession</th>\n",
       "      <th>known_for_titles</th>\n",
       "    </tr>\n",
       "  </thead>\n",
       "  <tbody>\n",
       "    <tr>\n",
       "      <th>5</th>\n",
       "      <td>nm0062879</td>\n",
       "      <td>Ruel S. Bayani</td>\n",
       "      <td>NaN</td>\n",
       "      <td>NaN</td>\n",
       "      <td>director,production_manager,miscellaneous</td>\n",
       "      <td>tt2590280,tt0352080,tt0216559,tt2057445</td>\n",
       "    </tr>\n",
       "    <tr>\n",
       "      <th>10</th>\n",
       "      <td>nm0064023</td>\n",
       "      <td>Bryan Beasley</td>\n",
       "      <td>NaN</td>\n",
       "      <td>NaN</td>\n",
       "      <td>director,producer,writer</td>\n",
       "      <td>tt3501180,tt1485100,tt1358897,tt1387162</td>\n",
       "    </tr>\n",
       "    <tr>\n",
       "      <th>15</th>\n",
       "      <td>nm0066163</td>\n",
       "      <td>Arnaud Bedouët</td>\n",
       "      <td>NaN</td>\n",
       "      <td>NaN</td>\n",
       "      <td>actor,writer,director</td>\n",
       "      <td>tt1355327,tt1977735,tt0173525,tt1710520</td>\n",
       "    </tr>\n",
       "    <tr>\n",
       "      <th>16</th>\n",
       "      <td>nm0066268</td>\n",
       "      <td>Steve Mitchell Beebe</td>\n",
       "      <td>NaN</td>\n",
       "      <td>NaN</td>\n",
       "      <td>editorial_department,director,editor</td>\n",
       "      <td>tt0827928,tt0119961,tt0408417,tt5521860</td>\n",
       "    </tr>\n",
       "    <tr>\n",
       "      <th>21</th>\n",
       "      <td>nm0068170</td>\n",
       "      <td>Dylan Bell</td>\n",
       "      <td>NaN</td>\n",
       "      <td>NaN</td>\n",
       "      <td>director,actor,producer</td>\n",
       "      <td>tt4655766,tt3180116,tt8170168,tt4082762</td>\n",
       "    </tr>\n",
       "  </tbody>\n",
       "</table>\n",
       "</div>"
      ],
      "text/plain": [
       "       nconst          primary_name  birth_year  death_year  \\\n",
       "5   nm0062879        Ruel S. Bayani         NaN         NaN   \n",
       "10  nm0064023         Bryan Beasley         NaN         NaN   \n",
       "15  nm0066163        Arnaud Bedouët         NaN         NaN   \n",
       "16  nm0066268  Steve Mitchell Beebe         NaN         NaN   \n",
       "21  nm0068170            Dylan Bell         NaN         NaN   \n",
       "\n",
       "                           primary_profession  \\\n",
       "5   director,production_manager,miscellaneous   \n",
       "10                   director,producer,writer   \n",
       "15                      actor,writer,director   \n",
       "16       editorial_department,director,editor   \n",
       "21                    director,actor,producer   \n",
       "\n",
       "                           known_for_titles  \n",
       "5   tt2590280,tt0352080,tt0216559,tt2057445  \n",
       "10  tt3501180,tt1485100,tt1358897,tt1387162  \n",
       "15  tt1355327,tt1977735,tt0173525,tt1710520  \n",
       "16  tt0827928,tt0119961,tt0408417,tt5521860  \n",
       "21  tt4655766,tt3180116,tt8170168,tt4082762  "
      ]
     },
     "execution_count": 8,
     "metadata": {},
     "output_type": "execute_result"
    }
   ],
   "source": [
    "#create a new dataframe that only contains people who are actors\n",
    "#create a new dataframe that only contains people who are directors\n",
    "imdb_actors = imdb_names_dropna[imdb_names_dropna['primary_profession'].str.contains('actor')]\n",
    "imdb_directors = imdb_names_dropna[imdb_names_dropna['primary_profession'].str.contains('director')]\n",
    "imdb_directors.head()"
   ]
  },
  {
   "cell_type": "code",
   "execution_count": null,
   "metadata": {},
   "outputs": [],
   "source": [
    "# Your code here - remember to use markdown cells for comments as well!"
   ]
  },
  {
   "cell_type": "code",
   "execution_count": 63,
   "metadata": {
    "scrolled": true
   },
   "outputs": [
    {
     "data": {
      "text/html": [
       "<div>\n",
       "<style scoped>\n",
       "    .dataframe tbody tr th:only-of-type {\n",
       "        vertical-align: middle;\n",
       "    }\n",
       "\n",
       "    .dataframe tbody tr th {\n",
       "        vertical-align: top;\n",
       "    }\n",
       "\n",
       "    .dataframe thead th {\n",
       "        text-align: right;\n",
       "    }\n",
       "</style>\n",
       "<table border=\"1\" class=\"dataframe\">\n",
       "  <thead>\n",
       "    <tr style=\"text-align: right;\">\n",
       "      <th></th>\n",
       "      <th>primary_name</th>\n",
       "      <th>avg_movie_rating</th>\n",
       "    </tr>\n",
       "  </thead>\n",
       "  <tbody>\n",
       "    <tr>\n",
       "      <th>1195</th>\n",
       "      <td>Max Wrottesley</td>\n",
       "      <td>27.5</td>\n",
       "    </tr>\n",
       "    <tr>\n",
       "      <th>2354</th>\n",
       "      <td>Nassim Haramein</td>\n",
       "      <td>22.6</td>\n",
       "    </tr>\n",
       "    <tr>\n",
       "      <th>680</th>\n",
       "      <td>Bishnu Kharghoria</td>\n",
       "      <td>22.4</td>\n",
       "    </tr>\n",
       "    <tr>\n",
       "      <th>1984</th>\n",
       "      <td>Fabio Alessandrini</td>\n",
       "      <td>21.2</td>\n",
       "    </tr>\n",
       "    <tr>\n",
       "      <th>2025</th>\n",
       "      <td>John Arcilla</td>\n",
       "      <td>21.0</td>\n",
       "    </tr>\n",
       "    <tr>\n",
       "      <th>1043</th>\n",
       "      <td>Michael Smiley</td>\n",
       "      <td>19.9</td>\n",
       "    </tr>\n",
       "    <tr>\n",
       "      <th>735</th>\n",
       "      <td>Ravindra Mankani</td>\n",
       "      <td>18.3</td>\n",
       "    </tr>\n",
       "    <tr>\n",
       "      <th>2018</th>\n",
       "      <td>Philip Delancy</td>\n",
       "      <td>18.2</td>\n",
       "    </tr>\n",
       "    <tr>\n",
       "      <th>466</th>\n",
       "      <td>Seizô Fukumoto</td>\n",
       "      <td>18.2</td>\n",
       "    </tr>\n",
       "    <tr>\n",
       "      <th>1107</th>\n",
       "      <td>Royston Stoffels</td>\n",
       "      <td>18.0</td>\n",
       "    </tr>\n",
       "  </tbody>\n",
       "</table>\n",
       "</div>"
      ],
      "text/plain": [
       "            primary_name  avg_movie_rating\n",
       "1195      Max Wrottesley              27.5\n",
       "2354     Nassim Haramein              22.6\n",
       "680    Bishnu Kharghoria              22.4\n",
       "1984  Fabio Alessandrini              21.2\n",
       "2025        John Arcilla              21.0\n",
       "1043      Michael Smiley              19.9\n",
       "735     Ravindra Mankani              18.3\n",
       "2018      Philip Delancy              18.2\n",
       "466       Seizô Fukumoto              18.2\n",
       "1107    Royston Stoffels              18.0"
      ]
     },
     "execution_count": 63,
     "metadata": {},
     "output_type": "execute_result"
    }
   ],
   "source": [
    "test_actors_rated[['primary_name', 'avg_movie_rating']].sort_values('avg_movie_rating', ascending=False).head(10)"
   ]
  },
  {
   "cell_type": "code",
   "execution_count": 61,
   "metadata": {
    "scrolled": true
   },
   "outputs": [
    {
     "name": "stderr",
     "output_type": "stream",
     "text": [
      "<ipython-input-61-57b36655f4c7>:3: SettingWithCopyWarning: \n",
      "A value is trying to be set on a copy of a slice from a DataFrame.\n",
      "Try using .loc[row_indexer,col_indexer] = value instead\n",
      "\n",
      "See the caveats in the documentation: https://pandas.pydata.org/pandas-docs/stable/user_guide/indexing.html#returning-a-view-versus-a-copy\n",
      "  test_row['avg_movie_rating'] = test_row['titles_list'].map(lambda x: find_rating(x))\n"
     ]
    }
   ],
   "source": [
    "#titles arent showing up in tconst \n",
    "test_row = imdb_actors_two.head(300)\n",
    "test_row['avg_movie_rating'] = test_row['titles_list'].map(lambda x: find_rating(x))\n",
    "test_row\n",
    "\n",
    "test_actors_rated = test_row[test_row['avg_movie_rating'] != 0]"
   ]
  },
  {
   "cell_type": "code",
   "execution_count": 62,
   "metadata": {},
   "outputs": [],
   "source": [
    "imdb_actors_rated = test_actors_rated[test_actors_rated['avg_movie_rating'] != 0]"
   ]
  }
 ],
 "metadata": {
  "kernelspec": {
   "display_name": "Python 3",
   "language": "python",
   "name": "python3"
  },
  "language_info": {
   "codemirror_mode": {
    "name": "ipython",
    "version": 3
   },
   "file_extension": ".py",
   "mimetype": "text/x-python",
   "name": "python",
   "nbconvert_exporter": "python",
   "pygments_lexer": "ipython3",
   "version": "3.8.5"
  }
 },
 "nbformat": 4,
 "nbformat_minor": 2
}
